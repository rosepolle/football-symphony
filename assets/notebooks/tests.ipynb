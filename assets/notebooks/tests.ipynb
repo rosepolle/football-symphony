{
 "cells": [
  {
   "cell_type": "code",
   "execution_count": 3,
   "metadata": {},
   "outputs": [],
   "source": [
    "from statsbombpy import sb\n",
    "import random\n",
    "import pandas as pd\n",
    "import numpy as np"
   ]
  },
  {
   "cell_type": "code",
   "execution_count": 4,
   "outputs": [],
   "source": [
    "# import time\n",
    "# timestr = time.time().strftime(\"%d%b%Y-%H%M%S)\")\n",
    "# timestr"
   ],
   "metadata": {
    "collapsed": false
   }
  },
  {
   "cell_type": "code",
   "execution_count": 5,
   "outputs": [
    {
     "data": {
      "text/plain": "['A3',\n 'A#3',\n 'A-3',\n 'A4',\n 'A#4',\n 'A-4',\n 'A5',\n 'A#5',\n 'A-5',\n 'B3',\n 'B#3',\n 'B-3',\n 'B4',\n 'B#4',\n 'B-4',\n 'B5',\n 'B#5',\n 'B-5',\n 'C3',\n 'C#3',\n 'C-3',\n 'C4',\n 'C#4',\n 'C-4',\n 'C5',\n 'C#5',\n 'C-5',\n 'D3',\n 'D#3',\n 'D-3',\n 'D4',\n 'D#4',\n 'D-4',\n 'D5',\n 'D#5',\n 'D-5',\n 'E3',\n 'E#3',\n 'E-3',\n 'E4',\n 'E#4',\n 'E-4',\n 'E5',\n 'E#5',\n 'E-5',\n 'F3',\n 'F#3',\n 'F-3',\n 'F4',\n 'F#4',\n 'F-4',\n 'F5',\n 'F#5',\n 'F-5',\n 'G3',\n 'G#3',\n 'G-3',\n 'G4',\n 'G#4',\n 'G-4',\n 'G5',\n 'G#5',\n 'G-5']"
     },
     "execution_count": 5,
     "metadata": {},
     "output_type": "execute_result"
    }
   ],
   "source": [
    "notes = ['A','B','C','D','E','F','G']\n",
    "octaves = range(3,6)\n",
    "sharp = ['','#','-']\n",
    "full_notes = []\n",
    "for note in notes:\n",
    "    for octave in octaves:\n",
    "        for sh in sharp:\n",
    "            full_notes.append(note+sh+str(octave))\n",
    "full_notes"
   ],
   "metadata": {
    "collapsed": false
   }
  },
  {
   "cell_type": "code",
   "execution_count": 35,
   "metadata": {},
   "outputs": [
    {
     "name": "stderr",
     "output_type": "stream",
     "text": [
      "/Users/roselinepolle/opt/anaconda3/lib/python3.9/site-packages/statsbombpy/api_client.py:21: NoAuthWarning: credentials were not supplied. open data access only\n",
      "  warnings.warn(\n",
      "/Users/roselinepolle/opt/anaconda3/lib/python3.9/site-packages/statsbombpy/api_client.py:21: NoAuthWarning: credentials were not supplied. open data access only\n",
      "  warnings.warn(\n",
      "/Users/roselinepolle/opt/anaconda3/lib/python3.9/site-packages/statsbombpy/api_client.py:21: NoAuthWarning: credentials were not supplied. open data access only\n",
      "  warnings.warn(\n"
     ]
    }
   ],
   "source": [
    "df = sb.competitions().sort_values(by=['competition_id','season_id'])\n",
    "sb.matches(competition_id=43, season_id=3)\n",
    "# sb.lineups(match_id=7580)[\"France\"]\n",
    "df=sb.events(match_id=7580)\n",
    "types = list(df['type'].unique())\n",
    "# print(df['shot_outcome'].unique())"
   ]
  },
  {
   "cell_type": "code",
   "execution_count": 36,
   "outputs": [
    {
     "data": {
      "text/plain": "                                       50_50 bad_behaviour_card  \\\n0                                        NaN                NaN   \n1                                        NaN                NaN   \n2                                        NaN                NaN   \n3                                        NaN                NaN   \n4                                        NaN                NaN   \n...                                      ...                ...   \n3544                                     NaN        Yellow Card   \n3545                                     NaN                NaN   \n3546  {'outcome': {'id': 1, 'name': 'Lost'}}                NaN   \n3547   {'outcome': {'id': 4, 'name': 'Won'}}                NaN   \n3548                                     NaN                NaN   \n\n     ball_receipt_outcome ball_recovery_offensive  \\\n0                     NaN                     NaN   \n1                     NaN                     NaN   \n2                     NaN                     NaN   \n3                     NaN                     NaN   \n4                     NaN                     NaN   \n...                   ...                     ...   \n3544                  NaN                     NaN   \n3545                  NaN                     NaN   \n3546                  NaN                     NaN   \n3547                  NaN                     NaN   \n3548                  NaN                     NaN   \n\n     ball_recovery_recovery_failure block_deflection block_offensive  \\\n0                               NaN              NaN             NaN   \n1                               NaN              NaN             NaN   \n2                               NaN              NaN             NaN   \n3                               NaN              NaN             NaN   \n4                               NaN              NaN             NaN   \n...                             ...              ...             ...   \n3544                            NaN              NaN             NaN   \n3545                            NaN              NaN             NaN   \n3546                            NaN              NaN             NaN   \n3547                            NaN              NaN             NaN   \n3548                            NaN              NaN             NaN   \n\n     carry_end_location clearance_aerial_won counterpress  ...  \\\n0                   NaN                  NaN          NaN  ...   \n1                   NaN                  NaN          NaN  ...   \n2                   NaN                  NaN          NaN  ...   \n3                   NaN                  NaN          NaN  ...   \n4                   NaN                  NaN          NaN  ...   \n...                 ...                  ...          ...  ...   \n3544                NaN                  NaN          NaN  ...   \n3545                NaN                  NaN          NaN  ...   \n3546                NaN                  NaN          NaN  ...   \n3547                NaN                  NaN          NaN  ...   \n3548                NaN                  NaN          NaN  ...   \n\n     shot_statsbomb_xg shot_technique shot_type substitution_outcome  \\\n0                  NaN            NaN       NaN                  NaN   \n1                  NaN            NaN       NaN                  NaN   \n2                  NaN            NaN       NaN                  NaN   \n3                  NaN            NaN       NaN                  NaN   \n4                  NaN            NaN       NaN                  NaN   \n...                ...            ...       ...                  ...   \n3544               NaN            NaN       NaN                  NaN   \n3545               NaN            NaN       NaN                  NaN   \n3546               NaN            NaN       NaN                  NaN   \n3547               NaN            NaN       NaN                  NaN   \n3548               NaN            NaN       NaN                  NaN   \n\n     substitution_replacement  \\\n0                         NaN   \n1                         NaN   \n2                         NaN   \n3                         NaN   \n4                         NaN   \n...                       ...   \n3544                      NaN   \n3545                      NaN   \n3546                      NaN   \n3547                      NaN   \n3548                      NaN   \n\n                                                tactics       team  \\\n0     {'formation': 4231, 'lineup': [{'player': {'id...     France   \n1     {'formation': 433, 'lineup': [{'player': {'id'...  Argentina   \n2                                                   NaN     France   \n3                                                   NaN  Argentina   \n4                                                   NaN  Argentina   \n...                                                 ...        ...   \n3544                                                NaN     France   \n3545                                                NaN  Argentina   \n3546                                                NaN     France   \n3547                                                NaN  Argentina   \n3548  {'formation': 442, 'lineup': [{'player': {'id'...  Argentina   \n\n         timestamp            type under_pressure  \n0     00:00:00.000     Starting XI            NaN  \n1     00:00:00.000     Starting XI            NaN  \n2     00:00:00.000      Half Start            NaN  \n3     00:00:00.000      Half Start            NaN  \n4     00:00:00.000      Half Start            NaN  \n...            ...             ...            ...  \n3544  00:48:18.547   Bad Behaviour            NaN  \n3545  00:10:12.600           Error            NaN  \n3546  00:19:59.160           50/50           True  \n3547  00:19:59.160           50/50           True  \n3548  00:22:14.801  Tactical Shift            NaN  \n\n[3549 rows x 79 columns]",
      "text/html": "<div>\n<style scoped>\n    .dataframe tbody tr th:only-of-type {\n        vertical-align: middle;\n    }\n\n    .dataframe tbody tr th {\n        vertical-align: top;\n    }\n\n    .dataframe thead th {\n        text-align: right;\n    }\n</style>\n<table border=\"1\" class=\"dataframe\">\n  <thead>\n    <tr style=\"text-align: right;\">\n      <th></th>\n      <th>50_50</th>\n      <th>bad_behaviour_card</th>\n      <th>ball_receipt_outcome</th>\n      <th>ball_recovery_offensive</th>\n      <th>ball_recovery_recovery_failure</th>\n      <th>block_deflection</th>\n      <th>block_offensive</th>\n      <th>carry_end_location</th>\n      <th>clearance_aerial_won</th>\n      <th>counterpress</th>\n      <th>...</th>\n      <th>shot_statsbomb_xg</th>\n      <th>shot_technique</th>\n      <th>shot_type</th>\n      <th>substitution_outcome</th>\n      <th>substitution_replacement</th>\n      <th>tactics</th>\n      <th>team</th>\n      <th>timestamp</th>\n      <th>type</th>\n      <th>under_pressure</th>\n    </tr>\n  </thead>\n  <tbody>\n    <tr>\n      <th>0</th>\n      <td>NaN</td>\n      <td>NaN</td>\n      <td>NaN</td>\n      <td>NaN</td>\n      <td>NaN</td>\n      <td>NaN</td>\n      <td>NaN</td>\n      <td>NaN</td>\n      <td>NaN</td>\n      <td>NaN</td>\n      <td>...</td>\n      <td>NaN</td>\n      <td>NaN</td>\n      <td>NaN</td>\n      <td>NaN</td>\n      <td>NaN</td>\n      <td>{'formation': 4231, 'lineup': [{'player': {'id...</td>\n      <td>France</td>\n      <td>00:00:00.000</td>\n      <td>Starting XI</td>\n      <td>NaN</td>\n    </tr>\n    <tr>\n      <th>1</th>\n      <td>NaN</td>\n      <td>NaN</td>\n      <td>NaN</td>\n      <td>NaN</td>\n      <td>NaN</td>\n      <td>NaN</td>\n      <td>NaN</td>\n      <td>NaN</td>\n      <td>NaN</td>\n      <td>NaN</td>\n      <td>...</td>\n      <td>NaN</td>\n      <td>NaN</td>\n      <td>NaN</td>\n      <td>NaN</td>\n      <td>NaN</td>\n      <td>{'formation': 433, 'lineup': [{'player': {'id'...</td>\n      <td>Argentina</td>\n      <td>00:00:00.000</td>\n      <td>Starting XI</td>\n      <td>NaN</td>\n    </tr>\n    <tr>\n      <th>2</th>\n      <td>NaN</td>\n      <td>NaN</td>\n      <td>NaN</td>\n      <td>NaN</td>\n      <td>NaN</td>\n      <td>NaN</td>\n      <td>NaN</td>\n      <td>NaN</td>\n      <td>NaN</td>\n      <td>NaN</td>\n      <td>...</td>\n      <td>NaN</td>\n      <td>NaN</td>\n      <td>NaN</td>\n      <td>NaN</td>\n      <td>NaN</td>\n      <td>NaN</td>\n      <td>France</td>\n      <td>00:00:00.000</td>\n      <td>Half Start</td>\n      <td>NaN</td>\n    </tr>\n    <tr>\n      <th>3</th>\n      <td>NaN</td>\n      <td>NaN</td>\n      <td>NaN</td>\n      <td>NaN</td>\n      <td>NaN</td>\n      <td>NaN</td>\n      <td>NaN</td>\n      <td>NaN</td>\n      <td>NaN</td>\n      <td>NaN</td>\n      <td>...</td>\n      <td>NaN</td>\n      <td>NaN</td>\n      <td>NaN</td>\n      <td>NaN</td>\n      <td>NaN</td>\n      <td>NaN</td>\n      <td>Argentina</td>\n      <td>00:00:00.000</td>\n      <td>Half Start</td>\n      <td>NaN</td>\n    </tr>\n    <tr>\n      <th>4</th>\n      <td>NaN</td>\n      <td>NaN</td>\n      <td>NaN</td>\n      <td>NaN</td>\n      <td>NaN</td>\n      <td>NaN</td>\n      <td>NaN</td>\n      <td>NaN</td>\n      <td>NaN</td>\n      <td>NaN</td>\n      <td>...</td>\n      <td>NaN</td>\n      <td>NaN</td>\n      <td>NaN</td>\n      <td>NaN</td>\n      <td>NaN</td>\n      <td>NaN</td>\n      <td>Argentina</td>\n      <td>00:00:00.000</td>\n      <td>Half Start</td>\n      <td>NaN</td>\n    </tr>\n    <tr>\n      <th>...</th>\n      <td>...</td>\n      <td>...</td>\n      <td>...</td>\n      <td>...</td>\n      <td>...</td>\n      <td>...</td>\n      <td>...</td>\n      <td>...</td>\n      <td>...</td>\n      <td>...</td>\n      <td>...</td>\n      <td>...</td>\n      <td>...</td>\n      <td>...</td>\n      <td>...</td>\n      <td>...</td>\n      <td>...</td>\n      <td>...</td>\n      <td>...</td>\n      <td>...</td>\n      <td>...</td>\n    </tr>\n    <tr>\n      <th>3544</th>\n      <td>NaN</td>\n      <td>Yellow Card</td>\n      <td>NaN</td>\n      <td>NaN</td>\n      <td>NaN</td>\n      <td>NaN</td>\n      <td>NaN</td>\n      <td>NaN</td>\n      <td>NaN</td>\n      <td>NaN</td>\n      <td>...</td>\n      <td>NaN</td>\n      <td>NaN</td>\n      <td>NaN</td>\n      <td>NaN</td>\n      <td>NaN</td>\n      <td>NaN</td>\n      <td>France</td>\n      <td>00:48:18.547</td>\n      <td>Bad Behaviour</td>\n      <td>NaN</td>\n    </tr>\n    <tr>\n      <th>3545</th>\n      <td>NaN</td>\n      <td>NaN</td>\n      <td>NaN</td>\n      <td>NaN</td>\n      <td>NaN</td>\n      <td>NaN</td>\n      <td>NaN</td>\n      <td>NaN</td>\n      <td>NaN</td>\n      <td>NaN</td>\n      <td>...</td>\n      <td>NaN</td>\n      <td>NaN</td>\n      <td>NaN</td>\n      <td>NaN</td>\n      <td>NaN</td>\n      <td>NaN</td>\n      <td>Argentina</td>\n      <td>00:10:12.600</td>\n      <td>Error</td>\n      <td>NaN</td>\n    </tr>\n    <tr>\n      <th>3546</th>\n      <td>{'outcome': {'id': 1, 'name': 'Lost'}}</td>\n      <td>NaN</td>\n      <td>NaN</td>\n      <td>NaN</td>\n      <td>NaN</td>\n      <td>NaN</td>\n      <td>NaN</td>\n      <td>NaN</td>\n      <td>NaN</td>\n      <td>NaN</td>\n      <td>...</td>\n      <td>NaN</td>\n      <td>NaN</td>\n      <td>NaN</td>\n      <td>NaN</td>\n      <td>NaN</td>\n      <td>NaN</td>\n      <td>France</td>\n      <td>00:19:59.160</td>\n      <td>50/50</td>\n      <td>True</td>\n    </tr>\n    <tr>\n      <th>3547</th>\n      <td>{'outcome': {'id': 4, 'name': 'Won'}}</td>\n      <td>NaN</td>\n      <td>NaN</td>\n      <td>NaN</td>\n      <td>NaN</td>\n      <td>NaN</td>\n      <td>NaN</td>\n      <td>NaN</td>\n      <td>NaN</td>\n      <td>NaN</td>\n      <td>...</td>\n      <td>NaN</td>\n      <td>NaN</td>\n      <td>NaN</td>\n      <td>NaN</td>\n      <td>NaN</td>\n      <td>NaN</td>\n      <td>Argentina</td>\n      <td>00:19:59.160</td>\n      <td>50/50</td>\n      <td>True</td>\n    </tr>\n    <tr>\n      <th>3548</th>\n      <td>NaN</td>\n      <td>NaN</td>\n      <td>NaN</td>\n      <td>NaN</td>\n      <td>NaN</td>\n      <td>NaN</td>\n      <td>NaN</td>\n      <td>NaN</td>\n      <td>NaN</td>\n      <td>NaN</td>\n      <td>...</td>\n      <td>NaN</td>\n      <td>NaN</td>\n      <td>NaN</td>\n      <td>NaN</td>\n      <td>NaN</td>\n      <td>{'formation': 442, 'lineup': [{'player': {'id'...</td>\n      <td>Argentina</td>\n      <td>00:22:14.801</td>\n      <td>Tactical Shift</td>\n      <td>NaN</td>\n    </tr>\n  </tbody>\n</table>\n<p>3549 rows × 79 columns</p>\n</div>"
     },
     "execution_count": 36,
     "metadata": {},
     "output_type": "execute_result"
    }
   ],
   "source": [
    "df"
   ],
   "metadata": {
    "collapsed": false
   }
  },
  {
   "cell_type": "code",
   "execution_count": 26,
   "outputs": [],
   "source": [
    "def round_seconds(t):\n",
    "    if t.microseconds >= 500_000:\n",
    "        t += datetime.timedelta(seconds=1)\n",
    "    return t- datetime.timedelta(microseconds=t.microseconds)"
   ],
   "metadata": {
    "collapsed": false
   }
  },
  {
   "cell_type": "code",
   "execution_count": 34,
   "outputs": [
    {
     "name": "stdout",
     "output_type": "stream",
     "text": [
      "0:04:06.880328\n",
      "0:04:07\n"
     ]
    }
   ],
   "source": [
    "import datetime\n",
    "t = datetime.timedelta(minutes=501.99/122)\n",
    "print(t)\n",
    "t = round_seconds(t)\n",
    "print(t)"
   ],
   "metadata": {
    "collapsed": false
   }
  },
  {
   "cell_type": "code",
   "execution_count": null,
   "outputs": [],
   "source": [],
   "metadata": {
    "collapsed": false
   }
  },
  {
   "cell_type": "code",
   "execution_count": 20,
   "outputs": [
    {
     "name": "stderr",
     "output_type": "stream",
     "text": [
      "/Users/roselinepolle/opt/anaconda3/lib/python3.9/site-packages/statsbombpy/api_client.py:21: NoAuthWarning: credentials were not supplied. open data access only\n",
      "  warnings.warn(\n"
     ]
    },
    {
     "ename": "JSONDecodeError",
     "evalue": "Extra data: line 1 column 4 (char 3)",
     "output_type": "error",
     "traceback": [
      "\u001B[0;31m---------------------------------------------------------------------------\u001B[0m",
      "\u001B[0;31mJSONDecodeError\u001B[0m                           Traceback (most recent call last)",
      "\u001B[0;32m~/opt/anaconda3/lib/python3.9/site-packages/requests/models.py\u001B[0m in \u001B[0;36mjson\u001B[0;34m(self, **kwargs)\u001B[0m\n\u001B[1;32m    970\u001B[0m         \u001B[0;32mtry\u001B[0m\u001B[0;34m:\u001B[0m\u001B[0;34m\u001B[0m\u001B[0;34m\u001B[0m\u001B[0m\n\u001B[0;32m--> 971\u001B[0;31m             \u001B[0;32mreturn\u001B[0m \u001B[0mcomplexjson\u001B[0m\u001B[0;34m.\u001B[0m\u001B[0mloads\u001B[0m\u001B[0;34m(\u001B[0m\u001B[0mself\u001B[0m\u001B[0;34m.\u001B[0m\u001B[0mtext\u001B[0m\u001B[0;34m,\u001B[0m \u001B[0;34m**\u001B[0m\u001B[0mkwargs\u001B[0m\u001B[0;34m)\u001B[0m\u001B[0;34m\u001B[0m\u001B[0;34m\u001B[0m\u001B[0m\n\u001B[0m\u001B[1;32m    972\u001B[0m         \u001B[0;32mexcept\u001B[0m \u001B[0mJSONDecodeError\u001B[0m \u001B[0;32mas\u001B[0m \u001B[0me\u001B[0m\u001B[0;34m:\u001B[0m\u001B[0;34m\u001B[0m\u001B[0;34m\u001B[0m\u001B[0m\n",
      "\u001B[0;32m~/opt/anaconda3/lib/python3.9/json/__init__.py\u001B[0m in \u001B[0;36mloads\u001B[0;34m(s, cls, object_hook, parse_float, parse_int, parse_constant, object_pairs_hook, **kw)\u001B[0m\n\u001B[1;32m    345\u001B[0m             parse_constant is None and object_pairs_hook is None and not kw):\n\u001B[0;32m--> 346\u001B[0;31m         \u001B[0;32mreturn\u001B[0m \u001B[0m_default_decoder\u001B[0m\u001B[0;34m.\u001B[0m\u001B[0mdecode\u001B[0m\u001B[0;34m(\u001B[0m\u001B[0ms\u001B[0m\u001B[0;34m)\u001B[0m\u001B[0;34m\u001B[0m\u001B[0;34m\u001B[0m\u001B[0m\n\u001B[0m\u001B[1;32m    347\u001B[0m     \u001B[0;32mif\u001B[0m \u001B[0mcls\u001B[0m \u001B[0;32mis\u001B[0m \u001B[0;32mNone\u001B[0m\u001B[0;34m:\u001B[0m\u001B[0;34m\u001B[0m\u001B[0;34m\u001B[0m\u001B[0m\n",
      "\u001B[0;32m~/opt/anaconda3/lib/python3.9/json/decoder.py\u001B[0m in \u001B[0;36mdecode\u001B[0;34m(self, s, _w)\u001B[0m\n\u001B[1;32m    339\u001B[0m         \u001B[0;32mif\u001B[0m \u001B[0mend\u001B[0m \u001B[0;34m!=\u001B[0m \u001B[0mlen\u001B[0m\u001B[0;34m(\u001B[0m\u001B[0ms\u001B[0m\u001B[0;34m)\u001B[0m\u001B[0;34m:\u001B[0m\u001B[0;34m\u001B[0m\u001B[0;34m\u001B[0m\u001B[0m\n\u001B[0;32m--> 340\u001B[0;31m             \u001B[0;32mraise\u001B[0m \u001B[0mJSONDecodeError\u001B[0m\u001B[0;34m(\u001B[0m\u001B[0;34m\"Extra data\"\u001B[0m\u001B[0;34m,\u001B[0m \u001B[0ms\u001B[0m\u001B[0;34m,\u001B[0m \u001B[0mend\u001B[0m\u001B[0;34m)\u001B[0m\u001B[0;34m\u001B[0m\u001B[0;34m\u001B[0m\u001B[0m\n\u001B[0m\u001B[1;32m    341\u001B[0m         \u001B[0;32mreturn\u001B[0m \u001B[0mobj\u001B[0m\u001B[0;34m\u001B[0m\u001B[0;34m\u001B[0m\u001B[0m\n",
      "\u001B[0;31mJSONDecodeError\u001B[0m: Extra data: line 1 column 4 (char 3)",
      "\nDuring handling of the above exception, another exception occurred:\n",
      "\u001B[0;31mJSONDecodeError\u001B[0m                           Traceback (most recent call last)",
      "\u001B[0;32m/var/folders/sc/hq64758573n96j26h3r75f480000gn/T/ipykernel_535/2549044440.py\u001B[0m in \u001B[0;36m<module>\u001B[0;34m\u001B[0m\n\u001B[0;32m----> 1\u001B[0;31m \u001B[0msb\u001B[0m\u001B[0;34m.\u001B[0m\u001B[0mframes\u001B[0m\u001B[0;34m(\u001B[0m\u001B[0;36m3772072\u001B[0m\u001B[0;34m,\u001B[0m \u001B[0mfmt\u001B[0m\u001B[0;34m=\u001B[0m\u001B[0;34m\"dict\"\u001B[0m\u001B[0;34m)\u001B[0m\u001B[0;34m\u001B[0m\u001B[0;34m\u001B[0m\u001B[0m\n\u001B[0m",
      "\u001B[0;32m~/opt/anaconda3/lib/python3.9/site-packages/statsbombpy/sb.py\u001B[0m in \u001B[0;36mframes\u001B[0;34m(match_id, fmt, creds)\u001B[0m\n\u001B[1;32m    176\u001B[0m     \u001B[0mcreds\u001B[0m\u001B[0;34m:\u001B[0m \u001B[0mdict\u001B[0m \u001B[0;34m=\u001B[0m \u001B[0mDEFAULT_CREDS\u001B[0m\u001B[0;34m,\u001B[0m\u001B[0;34m\u001B[0m\u001B[0;34m\u001B[0m\u001B[0m\n\u001B[1;32m    177\u001B[0m ) -> Union[pd.DataFrame, list, dict]:\n\u001B[0;32m--> 178\u001B[0;31m     \u001B[0mframes\u001B[0m \u001B[0;34m=\u001B[0m \u001B[0m_360_frames\u001B[0m\u001B[0;34m(\u001B[0m\u001B[0mmatch_id\u001B[0m\u001B[0;34m,\u001B[0m \u001B[0mcreds\u001B[0m\u001B[0;34m)\u001B[0m\u001B[0;34m\u001B[0m\u001B[0;34m\u001B[0m\u001B[0m\n\u001B[0m\u001B[1;32m    179\u001B[0m     \u001B[0;32mfor\u001B[0m \u001B[0mframe\u001B[0m \u001B[0;32min\u001B[0m \u001B[0mframes\u001B[0m\u001B[0;34m:\u001B[0m\u001B[0;34m\u001B[0m\u001B[0;34m\u001B[0m\u001B[0m\n\u001B[1;32m    180\u001B[0m         \u001B[0;32mif\u001B[0m \u001B[0;34m\"distances_from_edge_of_visible_area\"\u001B[0m \u001B[0;32min\u001B[0m \u001B[0mframe\u001B[0m\u001B[0;34m:\u001B[0m\u001B[0;34m\u001B[0m\u001B[0;34m\u001B[0m\u001B[0m\n",
      "\u001B[0;32m~/opt/anaconda3/lib/python3.9/site-packages/statsbombpy/sb.py\u001B[0m in \u001B[0;36m_360_frames\u001B[0;34m(match_id, creds)\u001B[0m\n\u001B[1;32m    167\u001B[0m         \u001B[0mframes\u001B[0m \u001B[0;34m=\u001B[0m \u001B[0mapi_client\u001B[0m\u001B[0;34m.\u001B[0m\u001B[0mframes\u001B[0m\u001B[0;34m(\u001B[0m\u001B[0mmatch_id\u001B[0m\u001B[0;34m,\u001B[0m \u001B[0mcreds\u001B[0m\u001B[0;34m=\u001B[0m\u001B[0mcreds\u001B[0m\u001B[0;34m)\u001B[0m\u001B[0;34m\u001B[0m\u001B[0;34m\u001B[0m\u001B[0m\n\u001B[1;32m    168\u001B[0m     \u001B[0;32melse\u001B[0m\u001B[0;34m:\u001B[0m\u001B[0;34m\u001B[0m\u001B[0;34m\u001B[0m\u001B[0m\n\u001B[0;32m--> 169\u001B[0;31m         \u001B[0mframes\u001B[0m \u001B[0;34m=\u001B[0m \u001B[0mpublic\u001B[0m\u001B[0;34m.\u001B[0m\u001B[0mframes\u001B[0m\u001B[0;34m(\u001B[0m\u001B[0mmatch_id\u001B[0m\u001B[0;34m)\u001B[0m\u001B[0;34m\u001B[0m\u001B[0;34m\u001B[0m\u001B[0m\n\u001B[0m\u001B[1;32m    170\u001B[0m     \u001B[0;32mreturn\u001B[0m \u001B[0mframes\u001B[0m\u001B[0;34m\u001B[0m\u001B[0;34m\u001B[0m\u001B[0m\n\u001B[1;32m    171\u001B[0m \u001B[0;34m\u001B[0m\u001B[0m\n",
      "\u001B[0;32m~/opt/anaconda3/lib/python3.9/site-packages/statsbombpy/public.py\u001B[0m in \u001B[0;36mframes\u001B[0;34m(match_id)\u001B[0m\n\u001B[1;32m     34\u001B[0m \u001B[0;34m\u001B[0m\u001B[0m\n\u001B[1;32m     35\u001B[0m \u001B[0;32mdef\u001B[0m \u001B[0mframes\u001B[0m\u001B[0;34m(\u001B[0m\u001B[0mmatch_id\u001B[0m\u001B[0;34m:\u001B[0m \u001B[0mint\u001B[0m\u001B[0;34m)\u001B[0m \u001B[0;34m->\u001B[0m \u001B[0mdict\u001B[0m\u001B[0;34m:\u001B[0m\u001B[0;34m\u001B[0m\u001B[0;34m\u001B[0m\u001B[0m\n\u001B[0;32m---> 36\u001B[0;31m     \u001B[0mframes\u001B[0m \u001B[0;34m=\u001B[0m \u001B[0mreq\u001B[0m\u001B[0;34m.\u001B[0m\u001B[0mget\u001B[0m\u001B[0;34m(\u001B[0m\u001B[0mOPEN_DATA_PATHS\u001B[0m\u001B[0;34m[\u001B[0m\u001B[0;34m\"frames\"\u001B[0m\u001B[0;34m]\u001B[0m\u001B[0;34m.\u001B[0m\u001B[0mformat\u001B[0m\u001B[0;34m(\u001B[0m\u001B[0mmatch_id\u001B[0m\u001B[0;34m=\u001B[0m\u001B[0mmatch_id\u001B[0m\u001B[0;34m)\u001B[0m\u001B[0;34m)\u001B[0m\u001B[0;34m.\u001B[0m\u001B[0mjson\u001B[0m\u001B[0;34m(\u001B[0m\u001B[0;34m)\u001B[0m\u001B[0;34m\u001B[0m\u001B[0;34m\u001B[0m\u001B[0m\n\u001B[0m\u001B[1;32m     37\u001B[0m     \u001B[0mframes\u001B[0m \u001B[0;34m=\u001B[0m \u001B[0ments\u001B[0m\u001B[0;34m.\u001B[0m\u001B[0mframes\u001B[0m\u001B[0;34m(\u001B[0m\u001B[0mframes\u001B[0m\u001B[0;34m,\u001B[0m \u001B[0mmatch_id\u001B[0m\u001B[0;34m)\u001B[0m\u001B[0;34m\u001B[0m\u001B[0;34m\u001B[0m\u001B[0m\n\u001B[1;32m     38\u001B[0m     \u001B[0;32mreturn\u001B[0m \u001B[0mframes\u001B[0m\u001B[0;34m\u001B[0m\u001B[0;34m\u001B[0m\u001B[0m\n",
      "\u001B[0;32m~/opt/anaconda3/lib/python3.9/site-packages/requests/models.py\u001B[0m in \u001B[0;36mjson\u001B[0;34m(self, **kwargs)\u001B[0m\n\u001B[1;32m    973\u001B[0m             \u001B[0;31m# Catch JSON-related errors and raise as requests.JSONDecodeError\u001B[0m\u001B[0;34m\u001B[0m\u001B[0;34m\u001B[0m\u001B[0m\n\u001B[1;32m    974\u001B[0m             \u001B[0;31m# This aliases json.JSONDecodeError and simplejson.JSONDecodeError\u001B[0m\u001B[0;34m\u001B[0m\u001B[0;34m\u001B[0m\u001B[0m\n\u001B[0;32m--> 975\u001B[0;31m             \u001B[0;32mraise\u001B[0m \u001B[0mRequestsJSONDecodeError\u001B[0m\u001B[0;34m(\u001B[0m\u001B[0me\u001B[0m\u001B[0;34m.\u001B[0m\u001B[0mmsg\u001B[0m\u001B[0;34m,\u001B[0m \u001B[0me\u001B[0m\u001B[0;34m.\u001B[0m\u001B[0mdoc\u001B[0m\u001B[0;34m,\u001B[0m \u001B[0me\u001B[0m\u001B[0;34m.\u001B[0m\u001B[0mpos\u001B[0m\u001B[0;34m)\u001B[0m\u001B[0;34m\u001B[0m\u001B[0;34m\u001B[0m\u001B[0m\n\u001B[0m\u001B[1;32m    976\u001B[0m \u001B[0;34m\u001B[0m\u001B[0m\n\u001B[1;32m    977\u001B[0m     \u001B[0;34m@\u001B[0m\u001B[0mproperty\u001B[0m\u001B[0;34m\u001B[0m\u001B[0;34m\u001B[0m\u001B[0m\n",
      "\u001B[0;31mJSONDecodeError\u001B[0m: Extra data: line 1 column 4 (char 3)"
     ]
    }
   ],
   "source": [
    "sb.frames(3772072, fmt=\"dict\")"
   ],
   "metadata": {
    "collapsed": false
   }
  },
  {
   "cell_type": "code",
   "execution_count": 19,
   "metadata": {},
   "outputs": [],
   "source": [
    "used_cols = {}\n",
    "for t in types:\n",
    "    used_cols[t] = list(df[df['type']==t].dropna(axis=1).columns)\n",
    "# remove common cols\n",
    "common_cols = set.intersection(*map(set,used_cols.values()))\n",
    "for t in types:\n",
    "    dftemp = df[df['type']==t].dropna(axis=1)\n",
    "    used_cols[t] = [col for col in list(dftemp.columns) if col not in common_cols]\n",
    "    # print(\"=========\",t,\"==========\")\n",
    "    # display(dftemp[:2])"
   ]
  },
  {
   "cell_type": "code",
   "execution_count": 20,
   "metadata": {},
   "outputs": [
    {
     "name": "stdout",
     "output_type": "stream",
     "text": [
      "['Starting XI', 'Half Start', 'Camera On', 'Camera off', 'Injury Stoppage', 'Half End', 'Tactical Shift']\n",
      "['Pass', 'Ball Receipt*', 'Carry', 'Foul Committed', 'Foul Won', 'Ball Recovery', 'Pressure', 'Dispossessed', 'Duel', 'Interception', 'Clearance', 'Block', 'Miscontrol', 'Dribbled Past', 'Dribble', 'Shot', 'Goal Keeper', 'Player Off', 'Player On', 'Substitution', 'Bad Behaviour', 'Error', '50/50']\n"
     ]
    }
   ],
   "source": [
    "non_player_types = [k for k,v in used_cols.items() if \"player\" not in v]\n",
    "player_types = [k for k,v in used_cols.items() if \"player\" in v]\n",
    "print(non_player_types)\n",
    "print(player_types)"
   ]
  },
  {
   "cell_type": "code",
   "execution_count": 23,
   "metadata": {},
   "outputs": [],
   "source": [
    "# df_events = df[['type','duration','minute','second','player']].sort_values(by=['minute','second'])\n",
    "df_events = df.sort_values(by=['minute','second'])"
   ]
  },
  {
   "cell_type": "code",
   "execution_count": 24,
   "metadata": {},
   "outputs": [],
   "source": [
    "players = list(df_events['player'].value_counts().index)\n",
    "notes = ['A','B','C','D','E','F','G']\n",
    "octaves = range(3,6)\n",
    "sharp = ['','#','b']\n",
    "# player.play_note(\"G3b\", 2.5)"
   ]
  },
  {
   "cell_type": "code",
   "execution_count": 26,
   "metadata": {},
   "outputs": [],
   "source": [
    "# import musicalbeeps\n",
    "# # totally random allocation\n",
    "# base_notes = random.choices(notes,k=len(players))\n",
    "# octaves = random.choices(octaves,k=len(players))\n",
    "# sharp = random.choices(sharp,k=len(players))\n",
    "# # alloc\n",
    "# df_ptn = pd.DataFrame({'player':players,\n",
    "#                         'base_note':base_notes,\n",
    "#                         'octave':octaves,\n",
    "#                         'sharp':sharp})\n",
    "# df_ptn['note'] = df_ptn['base_note'] + df_ptn['octave'].astype(str) + df_ptn['sharp']\n",
    "# df_ptn\n",
    "# player = musicalbeeps.Player(volume = 0.3,mute_output = False)\n",
    "# dnotes = df_ptn[['player','note']].set_index('player').to_dict()['note']\n",
    "# for idx,row in df_events[~df_events['player'].isna()].iterrows():\n",
    "#     fplayer = row['player']\n",
    "#     note = dnotes[fplayer]\n",
    "#     duration = 0.1 if (np.isnan(row['duration']) or row['duration']==0) else row['duration']/10\n",
    "#     print(\"---\", fplayer,'---',row['type'])\n",
    "#     player.play_note(note, duration)"
   ]
  },
  {
   "cell_type": "markdown",
   "metadata": {},
   "source": [
    "## Music 21"
   ]
  },
  {
   "cell_type": "code",
   "execution_count": 50,
   "metadata": {},
   "outputs": [],
   "source": [
    "from music21 import stream, instrument\n",
    "from music21.note import Note, Rest\n",
    "from music21 import *\n",
    "from statsbombpy import sb\n",
    "import random\n",
    "import pandas as pd\n",
    "import numpy as np\n",
    "from tqdm.notebook import tqdm"
   ]
  },
  {
   "cell_type": "code",
   "execution_count": 47,
   "outputs": [
    {
     "name": "stderr",
     "output_type": "stream",
     "text": [
      "/Users/roselinepolle/opt/anaconda3/lib/python3.9/site-packages/statsbombpy/api_client.py:21: NoAuthWarning: credentials were not supplied. open data access only\n",
      "  warnings.warn(\n"
     ]
    }
   ],
   "source": [
    "df_events =sb.events(match_id=7580).sort_values(by=['minute','second'])"
   ],
   "metadata": {
    "collapsed": false
   }
  },
  {
   "cell_type": "code",
   "execution_count": 48,
   "metadata": {},
   "outputs": [],
   "source": [
    "players = list(df_events['player'].value_counts().index)\n",
    "notes = ['A','B','C','D','E','F','G']\n",
    "octaves = range(3,6)\n",
    "sharp = ['','#','-']\n",
    "# totally random allocation\n",
    "base_notes = random.choices(notes,k=len(players))\n",
    "octaves = random.choices(octaves,k=len(players))\n",
    "sharp = random.choices(sharp,k=len(players))\n",
    "# alloc\n",
    "df_ptn = pd.DataFrame({'player':players,\n",
    "                        'base_note':base_notes,\n",
    "                        'octave':octaves,\n",
    "                        'sharp':sharp})\n",
    "df_ptn['note'] = df_ptn['base_note'] + df_ptn['sharp'] + df_ptn['octave'].astype(str) \n",
    "df_ptn.head(5)\n",
    "dnotes = df_ptn[['player','note']].set_index('player').to_dict()['note']"
   ]
  },
  {
   "cell_type": "code",
   "execution_count": 85,
   "outputs": [
    {
     "data": {
      "text/plain": "     50_50 bad_behaviour_card ball_receipt_outcome ball_recovery_offensive  \\\n3472   NaN                NaN                  NaN                     NaN   \n3473   NaN                NaN                  NaN                     NaN   \n3474   NaN                NaN                  NaN                     NaN   \n3475   NaN                NaN                  NaN                     NaN   \n3476   NaN                NaN                  NaN                     NaN   \n3477   NaN                NaN                  NaN                     NaN   \n3478   NaN                NaN                  NaN                     NaN   \n3479   NaN                NaN                  NaN                     NaN   \n3480   NaN                NaN                  NaN                     NaN   \n3481   NaN                NaN                  NaN                     NaN   \n3482   NaN                NaN                  NaN                     NaN   \n3483   NaN                NaN                  NaN                     NaN   \n3484   NaN                NaN                  NaN                     NaN   \n3485   NaN                NaN                  NaN                     NaN   \n3486   NaN                NaN                  NaN                     NaN   \n3487   NaN                NaN                  NaN                     NaN   \n3488   NaN                NaN                  NaN                     NaN   \n3489   NaN                NaN                  NaN                     NaN   \n3490   NaN                NaN                  NaN                     NaN   \n3491   NaN                NaN                  NaN                     NaN   \n3492   NaN                NaN                  NaN                     NaN   \n\n     ball_recovery_recovery_failure block_deflection block_offensive  \\\n3472                            NaN              NaN             NaN   \n3473                            NaN              NaN             NaN   \n3474                            NaN              NaN             NaN   \n3475                            NaN              NaN             NaN   \n3476                            NaN              NaN             NaN   \n3477                            NaN              NaN             NaN   \n3478                            NaN              NaN             NaN   \n3479                            NaN              NaN             NaN   \n3480                            NaN              NaN             NaN   \n3481                            NaN              NaN             NaN   \n3482                            NaN              NaN             NaN   \n3483                            NaN              NaN             NaN   \n3484                            NaN              NaN             NaN   \n3485                            NaN              NaN             NaN   \n3486                            NaN              NaN             NaN   \n3487                            NaN              NaN             NaN   \n3488                            NaN              NaN             NaN   \n3489                            NaN              NaN             NaN   \n3490                            NaN              NaN             NaN   \n3491                            NaN              NaN             NaN   \n3492                            NaN              NaN             NaN   \n\n     carry_end_location clearance_aerial_won counterpress  ...  \\\n3472                NaN                  NaN          NaN  ...   \n3473                NaN                  NaN          NaN  ...   \n3474                NaN                  NaN          NaN  ...   \n3475                NaN                  NaN          NaN  ...   \n3476                NaN                  NaN          NaN  ...   \n3477                NaN                  NaN          NaN  ...   \n3478                NaN                  NaN          NaN  ...   \n3479                NaN                  NaN          NaN  ...   \n3480                NaN                  NaN          NaN  ...   \n3481                NaN                  NaN          NaN  ...   \n3482                NaN                  NaN          NaN  ...   \n3483                NaN                  NaN          NaN  ...   \n3484                NaN                  NaN          NaN  ...   \n3485                NaN                  NaN          NaN  ...   \n3486                NaN                  NaN          NaN  ...   \n3487                NaN                  NaN          NaN  ...   \n3488                NaN                  NaN          NaN  ...   \n3489                NaN                  NaN          NaN  ...   \n3490                NaN                  NaN          NaN  ...   \n3491                NaN                  NaN          NaN  ...   \n3492                NaN                  NaN          NaN  ...   \n\n     shot_statsbomb_xg shot_technique  shot_type substitution_outcome  \\\n3472          0.065490         Normal  Free Kick                  NaN   \n3473          0.760000         Normal    Penalty                  NaN   \n3474          0.078683         Normal  Free Kick                  NaN   \n3475          0.017643         Normal  Open Play                  NaN   \n3476          0.016101         Normal  Open Play                  NaN   \n3477          0.013592         Normal  Open Play                  NaN   \n3478          0.308083         Normal  Open Play                  NaN   \n3479          0.190907         Normal  Open Play                  NaN   \n3480          0.027012    Half Volley  Open Play                  NaN   \n3481          0.106809         Normal  Open Play                  NaN   \n3482          0.088786         Normal  Open Play                  NaN   \n3483          0.029953         Normal  Free Kick                  NaN   \n3484          0.012178    Half Volley  Open Play                  NaN   \n3485          0.274534         Normal  Open Play                  NaN   \n3486          0.093324         Normal  Open Play                  NaN   \n3487          0.098168         Normal  Open Play                  NaN   \n3488          0.116789         Normal  Open Play                  NaN   \n3489          0.098624         Normal  Open Play                  NaN   \n3490          0.024061         Normal  Open Play                  NaN   \n3491          0.140201         Normal  Open Play                  NaN   \n3492          0.260058         Volley  Open Play                  NaN   \n\n     substitution_replacement  tactics       team     timestamp  type  \\\n3472                      NaN      NaN     France  00:08:24.267  Shot   \n3473                      NaN      NaN     France  00:12:42.360  Shot   \n3474                      NaN      NaN     France  00:20:33.347  Shot   \n3475                      NaN      NaN  Argentina  00:21:21.027  Shot   \n3476                      NaN      NaN  Argentina  00:40:43.280  Shot   \n3477                      NaN      NaN  Argentina  00:02:35.187  Shot   \n3478                      NaN      NaN  Argentina  00:02:35.760  Shot   \n3479                      NaN      NaN     France  00:10:12.667  Shot   \n3480                      NaN      NaN     France  00:11:48.467  Shot   \n3481                      NaN      NaN     France  00:18:06.067  Shot   \n3482                      NaN      NaN     France  00:18:08.720  Shot   \n3483                      NaN      NaN  Argentina  00:20:57.320  Shot   \n3484                      NaN      NaN  Argentina  00:20:58.867  Shot   \n3485                      NaN      NaN     France  00:22:49.600  Shot   \n3486                      NaN      NaN     France  00:24:56.387  Shot   \n3487                      NaN      NaN  Argentina  00:27:39.667  Shot   \n3488                      NaN      NaN  Argentina  00:39:18.240  Shot   \n3489                      NaN      NaN  Argentina  00:40:27.760  Shot   \n3490                      NaN      NaN  Argentina  00:44:03.440  Shot   \n3491                      NaN      NaN  Argentina  00:47:02.987  Shot   \n3492                      NaN      NaN  Argentina  00:49:54.027  Shot   \n\n     under_pressure  \n3472            NaN  \n3473            NaN  \n3474            NaN  \n3475            NaN  \n3476            NaN  \n3477            NaN  \n3478            NaN  \n3479            NaN  \n3480            NaN  \n3481            NaN  \n3482            NaN  \n3483            NaN  \n3484            NaN  \n3485            NaN  \n3486           True  \n3487            NaN  \n3488            NaN  \n3489           True  \n3490            NaN  \n3491            NaN  \n3492            NaN  \n\n[21 rows x 79 columns]",
      "text/html": "<div>\n<style scoped>\n    .dataframe tbody tr th:only-of-type {\n        vertical-align: middle;\n    }\n\n    .dataframe tbody tr th {\n        vertical-align: top;\n    }\n\n    .dataframe thead th {\n        text-align: right;\n    }\n</style>\n<table border=\"1\" class=\"dataframe\">\n  <thead>\n    <tr style=\"text-align: right;\">\n      <th></th>\n      <th>50_50</th>\n      <th>bad_behaviour_card</th>\n      <th>ball_receipt_outcome</th>\n      <th>ball_recovery_offensive</th>\n      <th>ball_recovery_recovery_failure</th>\n      <th>block_deflection</th>\n      <th>block_offensive</th>\n      <th>carry_end_location</th>\n      <th>clearance_aerial_won</th>\n      <th>counterpress</th>\n      <th>...</th>\n      <th>shot_statsbomb_xg</th>\n      <th>shot_technique</th>\n      <th>shot_type</th>\n      <th>substitution_outcome</th>\n      <th>substitution_replacement</th>\n      <th>tactics</th>\n      <th>team</th>\n      <th>timestamp</th>\n      <th>type</th>\n      <th>under_pressure</th>\n    </tr>\n  </thead>\n  <tbody>\n    <tr>\n      <th>3472</th>\n      <td>NaN</td>\n      <td>NaN</td>\n      <td>NaN</td>\n      <td>NaN</td>\n      <td>NaN</td>\n      <td>NaN</td>\n      <td>NaN</td>\n      <td>NaN</td>\n      <td>NaN</td>\n      <td>NaN</td>\n      <td>...</td>\n      <td>0.065490</td>\n      <td>Normal</td>\n      <td>Free Kick</td>\n      <td>NaN</td>\n      <td>NaN</td>\n      <td>NaN</td>\n      <td>France</td>\n      <td>00:08:24.267</td>\n      <td>Shot</td>\n      <td>NaN</td>\n    </tr>\n    <tr>\n      <th>3473</th>\n      <td>NaN</td>\n      <td>NaN</td>\n      <td>NaN</td>\n      <td>NaN</td>\n      <td>NaN</td>\n      <td>NaN</td>\n      <td>NaN</td>\n      <td>NaN</td>\n      <td>NaN</td>\n      <td>NaN</td>\n      <td>...</td>\n      <td>0.760000</td>\n      <td>Normal</td>\n      <td>Penalty</td>\n      <td>NaN</td>\n      <td>NaN</td>\n      <td>NaN</td>\n      <td>France</td>\n      <td>00:12:42.360</td>\n      <td>Shot</td>\n      <td>NaN</td>\n    </tr>\n    <tr>\n      <th>3474</th>\n      <td>NaN</td>\n      <td>NaN</td>\n      <td>NaN</td>\n      <td>NaN</td>\n      <td>NaN</td>\n      <td>NaN</td>\n      <td>NaN</td>\n      <td>NaN</td>\n      <td>NaN</td>\n      <td>NaN</td>\n      <td>...</td>\n      <td>0.078683</td>\n      <td>Normal</td>\n      <td>Free Kick</td>\n      <td>NaN</td>\n      <td>NaN</td>\n      <td>NaN</td>\n      <td>France</td>\n      <td>00:20:33.347</td>\n      <td>Shot</td>\n      <td>NaN</td>\n    </tr>\n    <tr>\n      <th>3475</th>\n      <td>NaN</td>\n      <td>NaN</td>\n      <td>NaN</td>\n      <td>NaN</td>\n      <td>NaN</td>\n      <td>NaN</td>\n      <td>NaN</td>\n      <td>NaN</td>\n      <td>NaN</td>\n      <td>NaN</td>\n      <td>...</td>\n      <td>0.017643</td>\n      <td>Normal</td>\n      <td>Open Play</td>\n      <td>NaN</td>\n      <td>NaN</td>\n      <td>NaN</td>\n      <td>Argentina</td>\n      <td>00:21:21.027</td>\n      <td>Shot</td>\n      <td>NaN</td>\n    </tr>\n    <tr>\n      <th>3476</th>\n      <td>NaN</td>\n      <td>NaN</td>\n      <td>NaN</td>\n      <td>NaN</td>\n      <td>NaN</td>\n      <td>NaN</td>\n      <td>NaN</td>\n      <td>NaN</td>\n      <td>NaN</td>\n      <td>NaN</td>\n      <td>...</td>\n      <td>0.016101</td>\n      <td>Normal</td>\n      <td>Open Play</td>\n      <td>NaN</td>\n      <td>NaN</td>\n      <td>NaN</td>\n      <td>Argentina</td>\n      <td>00:40:43.280</td>\n      <td>Shot</td>\n      <td>NaN</td>\n    </tr>\n    <tr>\n      <th>3477</th>\n      <td>NaN</td>\n      <td>NaN</td>\n      <td>NaN</td>\n      <td>NaN</td>\n      <td>NaN</td>\n      <td>NaN</td>\n      <td>NaN</td>\n      <td>NaN</td>\n      <td>NaN</td>\n      <td>NaN</td>\n      <td>...</td>\n      <td>0.013592</td>\n      <td>Normal</td>\n      <td>Open Play</td>\n      <td>NaN</td>\n      <td>NaN</td>\n      <td>NaN</td>\n      <td>Argentina</td>\n      <td>00:02:35.187</td>\n      <td>Shot</td>\n      <td>NaN</td>\n    </tr>\n    <tr>\n      <th>3478</th>\n      <td>NaN</td>\n      <td>NaN</td>\n      <td>NaN</td>\n      <td>NaN</td>\n      <td>NaN</td>\n      <td>NaN</td>\n      <td>NaN</td>\n      <td>NaN</td>\n      <td>NaN</td>\n      <td>NaN</td>\n      <td>...</td>\n      <td>0.308083</td>\n      <td>Normal</td>\n      <td>Open Play</td>\n      <td>NaN</td>\n      <td>NaN</td>\n      <td>NaN</td>\n      <td>Argentina</td>\n      <td>00:02:35.760</td>\n      <td>Shot</td>\n      <td>NaN</td>\n    </tr>\n    <tr>\n      <th>3479</th>\n      <td>NaN</td>\n      <td>NaN</td>\n      <td>NaN</td>\n      <td>NaN</td>\n      <td>NaN</td>\n      <td>NaN</td>\n      <td>NaN</td>\n      <td>NaN</td>\n      <td>NaN</td>\n      <td>NaN</td>\n      <td>...</td>\n      <td>0.190907</td>\n      <td>Normal</td>\n      <td>Open Play</td>\n      <td>NaN</td>\n      <td>NaN</td>\n      <td>NaN</td>\n      <td>France</td>\n      <td>00:10:12.667</td>\n      <td>Shot</td>\n      <td>NaN</td>\n    </tr>\n    <tr>\n      <th>3480</th>\n      <td>NaN</td>\n      <td>NaN</td>\n      <td>NaN</td>\n      <td>NaN</td>\n      <td>NaN</td>\n      <td>NaN</td>\n      <td>NaN</td>\n      <td>NaN</td>\n      <td>NaN</td>\n      <td>NaN</td>\n      <td>...</td>\n      <td>0.027012</td>\n      <td>Half Volley</td>\n      <td>Open Play</td>\n      <td>NaN</td>\n      <td>NaN</td>\n      <td>NaN</td>\n      <td>France</td>\n      <td>00:11:48.467</td>\n      <td>Shot</td>\n      <td>NaN</td>\n    </tr>\n    <tr>\n      <th>3481</th>\n      <td>NaN</td>\n      <td>NaN</td>\n      <td>NaN</td>\n      <td>NaN</td>\n      <td>NaN</td>\n      <td>NaN</td>\n      <td>NaN</td>\n      <td>NaN</td>\n      <td>NaN</td>\n      <td>NaN</td>\n      <td>...</td>\n      <td>0.106809</td>\n      <td>Normal</td>\n      <td>Open Play</td>\n      <td>NaN</td>\n      <td>NaN</td>\n      <td>NaN</td>\n      <td>France</td>\n      <td>00:18:06.067</td>\n      <td>Shot</td>\n      <td>NaN</td>\n    </tr>\n    <tr>\n      <th>3482</th>\n      <td>NaN</td>\n      <td>NaN</td>\n      <td>NaN</td>\n      <td>NaN</td>\n      <td>NaN</td>\n      <td>NaN</td>\n      <td>NaN</td>\n      <td>NaN</td>\n      <td>NaN</td>\n      <td>NaN</td>\n      <td>...</td>\n      <td>0.088786</td>\n      <td>Normal</td>\n      <td>Open Play</td>\n      <td>NaN</td>\n      <td>NaN</td>\n      <td>NaN</td>\n      <td>France</td>\n      <td>00:18:08.720</td>\n      <td>Shot</td>\n      <td>NaN</td>\n    </tr>\n    <tr>\n      <th>3483</th>\n      <td>NaN</td>\n      <td>NaN</td>\n      <td>NaN</td>\n      <td>NaN</td>\n      <td>NaN</td>\n      <td>NaN</td>\n      <td>NaN</td>\n      <td>NaN</td>\n      <td>NaN</td>\n      <td>NaN</td>\n      <td>...</td>\n      <td>0.029953</td>\n      <td>Normal</td>\n      <td>Free Kick</td>\n      <td>NaN</td>\n      <td>NaN</td>\n      <td>NaN</td>\n      <td>Argentina</td>\n      <td>00:20:57.320</td>\n      <td>Shot</td>\n      <td>NaN</td>\n    </tr>\n    <tr>\n      <th>3484</th>\n      <td>NaN</td>\n      <td>NaN</td>\n      <td>NaN</td>\n      <td>NaN</td>\n      <td>NaN</td>\n      <td>NaN</td>\n      <td>NaN</td>\n      <td>NaN</td>\n      <td>NaN</td>\n      <td>NaN</td>\n      <td>...</td>\n      <td>0.012178</td>\n      <td>Half Volley</td>\n      <td>Open Play</td>\n      <td>NaN</td>\n      <td>NaN</td>\n      <td>NaN</td>\n      <td>Argentina</td>\n      <td>00:20:58.867</td>\n      <td>Shot</td>\n      <td>NaN</td>\n    </tr>\n    <tr>\n      <th>3485</th>\n      <td>NaN</td>\n      <td>NaN</td>\n      <td>NaN</td>\n      <td>NaN</td>\n      <td>NaN</td>\n      <td>NaN</td>\n      <td>NaN</td>\n      <td>NaN</td>\n      <td>NaN</td>\n      <td>NaN</td>\n      <td>...</td>\n      <td>0.274534</td>\n      <td>Normal</td>\n      <td>Open Play</td>\n      <td>NaN</td>\n      <td>NaN</td>\n      <td>NaN</td>\n      <td>France</td>\n      <td>00:22:49.600</td>\n      <td>Shot</td>\n      <td>NaN</td>\n    </tr>\n    <tr>\n      <th>3486</th>\n      <td>NaN</td>\n      <td>NaN</td>\n      <td>NaN</td>\n      <td>NaN</td>\n      <td>NaN</td>\n      <td>NaN</td>\n      <td>NaN</td>\n      <td>NaN</td>\n      <td>NaN</td>\n      <td>NaN</td>\n      <td>...</td>\n      <td>0.093324</td>\n      <td>Normal</td>\n      <td>Open Play</td>\n      <td>NaN</td>\n      <td>NaN</td>\n      <td>NaN</td>\n      <td>France</td>\n      <td>00:24:56.387</td>\n      <td>Shot</td>\n      <td>True</td>\n    </tr>\n    <tr>\n      <th>3487</th>\n      <td>NaN</td>\n      <td>NaN</td>\n      <td>NaN</td>\n      <td>NaN</td>\n      <td>NaN</td>\n      <td>NaN</td>\n      <td>NaN</td>\n      <td>NaN</td>\n      <td>NaN</td>\n      <td>NaN</td>\n      <td>...</td>\n      <td>0.098168</td>\n      <td>Normal</td>\n      <td>Open Play</td>\n      <td>NaN</td>\n      <td>NaN</td>\n      <td>NaN</td>\n      <td>Argentina</td>\n      <td>00:27:39.667</td>\n      <td>Shot</td>\n      <td>NaN</td>\n    </tr>\n    <tr>\n      <th>3488</th>\n      <td>NaN</td>\n      <td>NaN</td>\n      <td>NaN</td>\n      <td>NaN</td>\n      <td>NaN</td>\n      <td>NaN</td>\n      <td>NaN</td>\n      <td>NaN</td>\n      <td>NaN</td>\n      <td>NaN</td>\n      <td>...</td>\n      <td>0.116789</td>\n      <td>Normal</td>\n      <td>Open Play</td>\n      <td>NaN</td>\n      <td>NaN</td>\n      <td>NaN</td>\n      <td>Argentina</td>\n      <td>00:39:18.240</td>\n      <td>Shot</td>\n      <td>NaN</td>\n    </tr>\n    <tr>\n      <th>3489</th>\n      <td>NaN</td>\n      <td>NaN</td>\n      <td>NaN</td>\n      <td>NaN</td>\n      <td>NaN</td>\n      <td>NaN</td>\n      <td>NaN</td>\n      <td>NaN</td>\n      <td>NaN</td>\n      <td>NaN</td>\n      <td>...</td>\n      <td>0.098624</td>\n      <td>Normal</td>\n      <td>Open Play</td>\n      <td>NaN</td>\n      <td>NaN</td>\n      <td>NaN</td>\n      <td>Argentina</td>\n      <td>00:40:27.760</td>\n      <td>Shot</td>\n      <td>True</td>\n    </tr>\n    <tr>\n      <th>3490</th>\n      <td>NaN</td>\n      <td>NaN</td>\n      <td>NaN</td>\n      <td>NaN</td>\n      <td>NaN</td>\n      <td>NaN</td>\n      <td>NaN</td>\n      <td>NaN</td>\n      <td>NaN</td>\n      <td>NaN</td>\n      <td>...</td>\n      <td>0.024061</td>\n      <td>Normal</td>\n      <td>Open Play</td>\n      <td>NaN</td>\n      <td>NaN</td>\n      <td>NaN</td>\n      <td>Argentina</td>\n      <td>00:44:03.440</td>\n      <td>Shot</td>\n      <td>NaN</td>\n    </tr>\n    <tr>\n      <th>3491</th>\n      <td>NaN</td>\n      <td>NaN</td>\n      <td>NaN</td>\n      <td>NaN</td>\n      <td>NaN</td>\n      <td>NaN</td>\n      <td>NaN</td>\n      <td>NaN</td>\n      <td>NaN</td>\n      <td>NaN</td>\n      <td>...</td>\n      <td>0.140201</td>\n      <td>Normal</td>\n      <td>Open Play</td>\n      <td>NaN</td>\n      <td>NaN</td>\n      <td>NaN</td>\n      <td>Argentina</td>\n      <td>00:47:02.987</td>\n      <td>Shot</td>\n      <td>NaN</td>\n    </tr>\n    <tr>\n      <th>3492</th>\n      <td>NaN</td>\n      <td>NaN</td>\n      <td>NaN</td>\n      <td>NaN</td>\n      <td>NaN</td>\n      <td>NaN</td>\n      <td>NaN</td>\n      <td>NaN</td>\n      <td>NaN</td>\n      <td>NaN</td>\n      <td>...</td>\n      <td>0.260058</td>\n      <td>Volley</td>\n      <td>Open Play</td>\n      <td>NaN</td>\n      <td>NaN</td>\n      <td>NaN</td>\n      <td>Argentina</td>\n      <td>00:49:54.027</td>\n      <td>Shot</td>\n      <td>NaN</td>\n    </tr>\n  </tbody>\n</table>\n<p>21 rows × 79 columns</p>\n</div>"
     },
     "execution_count": 85,
     "metadata": {},
     "output_type": "execute_result"
    }
   ],
   "source": [
    "df_events[df_events['type']=='Shot']"
   ],
   "metadata": {
    "collapsed": false
   }
  },
  {
   "cell_type": "code",
   "execution_count": 86,
   "outputs": [],
   "source": [
    "snare_drum_pitch = 38\n",
    "crash_cymbal_pitch = 49\n",
    "closed_high_hat_pitch = 42\n",
    "long_whistle_pitch = 72\n",
    "def make_goal(part,duration):\n",
    "    for _ in range(4):\n",
    "        part.append(Note(snare_drum_pitch, quarterLength=duration/8))\n",
    "    part.append(Note(crash_cymbal_pitch, quarterLength=duration/2))\n",
    "    return part\n",
    "def make_shot(part,duration):\n",
    "    part.append(Note(snare_drum_pitch, quarterLength=duration))\n",
    "    return part\n",
    "def make_pass(part,duration):\n",
    "    part.append(Note(closed_high_hat_pitch, quarterLength=duration))\n",
    "    return part\n",
    "def make_foul(part,duration):\n",
    "    part.append(Note(long_whistle_pitch, quarterLength=duration))\n",
    "    return part"
   ],
   "metadata": {
    "collapsed": false
   }
  },
  {
   "cell_type": "code",
   "execution_count": 93,
   "outputs": [],
   "source": [
    "def make_stream(df_events,dnotes,main_instrument,drum_instrument):\n",
    "    s = stream.Score(id='mainScore')\n",
    "\n",
    "    drumPart = stream.Part(id='drum')\n",
    "    drum_instrument_class = eval('instrument.%s()' % drum_instrument)\n",
    "    drumPart.insert(0, drum_instrument_class)\n",
    "\n",
    "    goalPart = stream.Part(id='drum')\n",
    "    drum_instrument_class = eval('instrument.%s()' % drum_instrument)\n",
    "    goalPart.insert(0, drum_instrument_class)\n",
    "\n",
    "    mainPart = stream.Part(id='main')\n",
    "    main_instrument_class = eval('instrument.%s()'% main_instrument)\n",
    "    mainPart.insert(0, main_instrument_class)\n",
    "\n",
    "    for idx, row in tqdm(df_events[~df_events['player'].isna()].iterrows()):\n",
    "        fplayer = row['player']\n",
    "        etype = row['type']\n",
    "        # MAIN PART\n",
    "        note = dnotes[fplayer]\n",
    "        duration = 0 if np.isnan(row['duration']) else row['duration']/8\n",
    "        n = Note(note, quarterLength=duration)\n",
    "        mainPart.append(n)\n",
    "        # DRUM PART\n",
    "        if etype == 'Shot':\n",
    "            drumPart = make_shot(drumPart,duration)\n",
    "        elif etype == 'Pass':\n",
    "            drumPart = make_pass(drumPart,duration)\n",
    "        elif etype == 'Foul Committed':\n",
    "            drumPart = make_foul(drumPart,duration)\n",
    "        else:\n",
    "            drumPart.append(Rest(quarterLength=duration))\n",
    "        # GOAL PART\n",
    "        if etype == 'Shot':\n",
    "            if row['shot_outcome'] == 'Goal':\n",
    "                goalPart = make_goal(goalPart,duration)\n",
    "            else:\n",
    "                goalPart.append(Rest(quarterLength=duration))\n",
    "        else:\n",
    "            goalPart.append(Rest(quarterLength=duration))\n",
    "\n",
    "    s.insert(0, mainPart)\n",
    "    s.insert(0, drumPart)\n",
    "    s.insert(0, goalPart)\n",
    "    return s"
   ],
   "metadata": {
    "collapsed": false
   }
  },
  {
   "cell_type": "code",
   "execution_count": 97,
   "outputs": [
    {
     "data": {
      "text/plain": "0it [00:00, ?it/s]",
      "application/vnd.jupyter.widget-view+json": {
       "version_major": 2,
       "version_minor": 0,
       "model_id": "4bc6008664a64a28b782ab695ab7e6f5"
      }
     },
     "metadata": {},
     "output_type": "display_data"
    }
   ],
   "source": [
    "main_instrument = 'ElectricBass'\n",
    "drum_instrument =  'Woodblock'\n",
    "s = make_stream(df_events,dnotes,main_instrument,drum_instrument)"
   ],
   "metadata": {
    "collapsed": false
   }
  },
  {
   "cell_type": "code",
   "execution_count": 92,
   "outputs": [],
   "source": [
    "sp = midi.realtime.StreamPlayer(s)\n",
    "sp.play()"
   ],
   "metadata": {
    "collapsed": false
   }
  },
  {
   "cell_type": "code",
   "execution_count": 98,
   "outputs": [],
   "source": [
    "fp = s.write('midi', fp='assets/tmp.mid')"
   ],
   "metadata": {
    "collapsed": false
   }
  },
  {
   "cell_type": "code",
   "execution_count": 99,
   "outputs": [
    {
     "name": "stderr",
     "output_type": "stream",
     "text": [
      "fluidsynth: panic: An error occurred while reading from stdin.\n",
      "fluidsynth: panic: An error occurred while reading from stdin.\n",
      "fluidsynth: warning: Instrument not found on channel 9 [bank=128 prog=115], substituted [bank=128 prog=0]\n",
      "fluidsynth: warning: Instrument not found on channel 9 [bank=128 prog=115], substituted [bank=128 prog=0]\n",
      "fluidsynth: warning: Instrument not found on channel 9 [bank=128 prog=115], substituted [bank=128 prog=0]\n",
      "fluidsynth: warning: Instrument not found on channel 9 [bank=128 prog=115], substituted [bank=128 prog=0]\n"
     ]
    },
    {
     "name": "stdout",
     "output_type": "stream",
     "text": [
      "FluidSynth runtime version 2.3.1\n",
      "Copyright (C) 2000-2022 Peter Hanappe and others.\n",
      "Distributed under the LGPL license.\n",
      "SoundFont(R) is a registered trademark of Creative Technology Ltd.\n",
      "\n",
      "Rendering audio to file 'tmp2.wav'..\n"
     ]
    }
   ],
   "source": [
    "import midi2audio_local\n",
    "# sf = '~/.fluidsynth/fonts/ChateauGrand-Plus-Instruments-bs16i-v3.1.sf2'\n",
    "fs = midi2audio_local.FluidSynth()\n",
    "# fs.play_midi('tmp.mid')\n",
    "fs.midi_to_audio('assets/tmp.mid', 'tmp2.wav')"
   ],
   "metadata": {
    "collapsed": false
   }
  },
  {
   "cell_type": "code",
   "execution_count": null,
   "outputs": [],
   "source": [],
   "metadata": {
    "collapsed": false
   }
  },
  {
   "cell_type": "code",
   "execution_count": 13,
   "outputs": [],
   "source": [
    "n1 = note.Note('e4')\n",
    "n1.duration.type = 'whole'\n",
    "n2 = note.Note('d4')\n",
    "n2.duration.type = 'whole'\n",
    "m1 = stream.Measure()\n",
    "m2 = stream.Measure()\n",
    "m1.append(n1)\n",
    "m2.append(n2)\n",
    "partLower = stream.Part()\n",
    "partLower.insert(0, instrument.ElectricBass())\n",
    "partLower.append(m1)\n",
    "partLower.append(m2)\n",
    "\n",
    "# For the music21 Upper Part, we automate the note creation procedure\n",
    "\n",
    "data1 = [('g4', 'quarter'), ('a4', 'quarter'), ('b4', 'quarter'), ('c#5', 'quarter')]\n",
    "data2 = [('d5', 'whole')]\n",
    "data = [data1, data2]\n",
    "partUpper = stream.Part()\n",
    "partUpper.insert(0, instrument.Woodblock())\n",
    "\n",
    "def makeUpperPart(data):\n",
    "    for mData in data:\n",
    "        m = stream.Measure()\n",
    "        for pitchName, durType in mData:\n",
    "            n = note.Note(pitchName)\n",
    "            n.duration.type = durType\n",
    "            m.append(n)\n",
    "        partUpper.append(m)\n",
    "makeUpperPart(data)\n",
    "\n",
    "# Now, we can add both Part objects into a music21 Score object.\n",
    "\n",
    "sCadence = stream.Score()\n",
    "sCadence.insert(0, partUpper)\n",
    "sCadence.insert(0, partLower)"
   ],
   "metadata": {
    "collapsed": false
   }
  },
  {
   "cell_type": "code",
   "execution_count": 14,
   "outputs": [],
   "source": [
    "sp = midi.realtime.StreamPlayer(sCadence)\n",
    "sp.play()"
   ],
   "metadata": {
    "collapsed": false
   }
  },
  {
   "cell_type": "code",
   "execution_count": null,
   "metadata": {},
   "outputs": [],
   "source": []
  },
  {
   "cell_type": "code",
   "execution_count": 158,
   "metadata": {},
   "outputs": [],
   "source": [
    "drumPart = stream.Part()\n",
    "drumPart.insert(0, instrument.Woodblock())"
   ]
  },
  {
   "cell_type": "code",
   "execution_count": 123,
   "metadata": {},
   "outputs": [],
   "source": [
    "sp = midi.realtime.StreamPlayer(drumPart)\n",
    "sp.play()"
   ]
  },
  {
   "cell_type": "code",
   "execution_count": 129,
   "metadata": {},
   "outputs": [],
   "source": [
    "s = stream.Score(id='mainScore')\n",
    "p0 = stream.Part(id='part0')\n",
    "p1 = stream.Part(id='part1')\n",
    "\n",
    "m01 = stream.Measure(number=1)\n",
    "m01.append(note.Note('C', type=\"whole\"))\n",
    "m02 = stream.Measure(number=2)\n",
    "m02.append(note.Note('D', type=\"whole\"))\n",
    "p0.append([m01, m02])\n",
    "\n",
    "m11 = stream.Measure(number=1)\n",
    "m11.append(note.Note('E', type=\"whole\"))\n",
    "m12 = stream.Measure(number=2)\n",
    "m12.append(note.Note('F', type=\"whole\"))\n",
    "p1.append([m11, m12])\n",
    "\n",
    "s.insert(0, p0)\n",
    "s.insert(0, p1)\n",
    "# s.show()"
   ]
  },
  {
   "cell_type": "code",
   "execution_count": 131,
   "metadata": {},
   "outputs": [
    {
     "data": {
      "text/html": [
       "\n",
       "                <div id=\"midiPlayerDiv10892\"></div>\n",
       "                <link rel=\"stylesheet\" href=\"//cuthbertLab.github.io/music21j/css/m21.css\"\n",
       "                    type=\"text/css\" />\n",
       "                \n",
       "                <script>\n",
       "                require.config({\n",
       "                    paths: {'music21_local': '//cuthbertLab.github.io/music21j/src/music21_local'}\n",
       "                });\n",
       "                require(['music21_local'], function() {\n",
       "                               mp = new music21_local.miditools.MidiPlayer();\n",
       "                               mp.addPlayer(\"#midiPlayerDiv10892\");\n",
       "                               mp.base64Load(\"data:audio/midi;base64,TVRoZAAAAAYAAQADBABNVHJrAAAAFAD/UQMHoSAA/1gEBAIYCIgA/y8ATVRyawAAACAA/wMAAOAAQIgAkDxaoACAPAAAkD5aoACAPgCIAP8vAE1UcmsAAAAgAP8DAADgAECIAJBAWqAAgEAAAJBBWqAAgEEAiAD/LwA=\");\n",
       "                        });\n",
       "                </script>"
      ],
      "text/plain": [
       "<IPython.core.display.HTML object>"
      ]
     },
     "metadata": {},
     "output_type": "display_data"
    }
   ],
   "source": [
    "s.show('midi')"
   ]
  },
  {
   "cell_type": "code",
   "execution_count": 130,
   "metadata": {},
   "outputs": [],
   "source": [
    "sp = midi.realtime.StreamPlayer(s)\n",
    "sp.play()"
   ]
  },
  {
   "cell_type": "code",
   "execution_count": 113,
   "metadata": {},
   "outputs": [
    {
     "data": {
      "text/html": [
       "\n",
       "                <div id=\"midiPlayerDiv10609\"></div>\n",
       "                <link rel=\"stylesheet\" href=\"//cuthbertLab.github.io/music21j/css/m21.css\"\n",
       "                    type=\"text/css\" />\n",
       "                \n",
       "                <script>\n",
       "                require.config({\n",
       "                    paths: {'music21_local': '//cuthbertLab.github.io/music21j/src/music21_local'}\n",
       "                });\n",
       "                require(['music21_local'], function() {\n",
       "                               mp = new music21_local.miditools.MidiPlayer();\n",
       "                               mp.addPlayer(\"#midiPlayerDiv10609\");\n",
       "                               mp.base64Load(\"data:audio/midi;base64,TVRoZAAAAAYAAQACBABNVHJrAAAAFAD/UQMHoSAA/1gEBAIYCIgA/y8ATVRyawAAACYA/wMJV29vZGJsb2NrAMlzAOkAQADJc4gAmS1aiACJLQCIAP8vAA==\");\n",
       "                        });\n",
       "                </script>"
      ],
      "text/plain": [
       "<IPython.core.display.HTML object>"
      ]
     },
     "metadata": {},
     "output_type": "display_data"
    }
   ],
   "source": [
    "\n",
    "\n",
    "n = Note(\"A2\", type='quarter')\n",
    "\n",
    "drumPart = stream.Part()\n",
    "drumPart.insert(0, instrument.Woodblock())\n",
    "\n",
    "drumMeasure = stream.Measure()\n",
    "drumMeasure.append(n)\n",
    "drumPart.append(drumMeasure)\n",
    "\n",
    "# This line actually generate the midi on my mac but there is no relevant software to read it and the opening fail\n",
    "drumPart.show('midi')\n",
    "\n",
    "sp = midi.realtime.StreamPlayer(drumPart)\n",
    "sp.play()"
   ]
  },
  {
   "cell_type": "code",
   "execution_count": 111,
   "metadata": {},
   "outputs": [
    {
     "ename": "KeyboardInterrupt",
     "evalue": "",
     "output_type": "error",
     "traceback": [
      "\u001B[1;31m---------------------------------------------------------------------------\u001B[0m",
      "\u001B[1;31mKeyboardInterrupt\u001B[0m                         Traceback (most recent call last)",
      "Cell \u001B[1;32mIn[111], line 16\u001B[0m\n\u001B[0;32m     14\u001B[0m     n\u001B[38;5;241m.\u001B[39mmicrotone \u001B[38;5;241m=\u001B[39m keyDetune[n\u001B[38;5;241m.\u001B[39mpitch\u001B[38;5;241m.\u001B[39mmidi]\n\u001B[0;32m     15\u001B[0m sp \u001B[38;5;241m=\u001B[39m midi\u001B[38;5;241m.\u001B[39mrealtime\u001B[38;5;241m.\u001B[39mStreamPlayer(b)\n\u001B[1;32m---> 16\u001B[0m \u001B[43msp\u001B[49m\u001B[38;5;241;43m.\u001B[39;49m\u001B[43mplay\u001B[49m\u001B[43m(\u001B[49m\u001B[43m)\u001B[49m\n",
      "File \u001B[1;32m~\\anaconda3\\lib\\site-packages\\music21\\midi\\realtime.py:118\u001B[0m, in \u001B[0;36mStreamPlayer.play\u001B[1;34m(self, busyFunction, busyArgs, endFunction, endArgs, busyWaitMilliseconds, playForMilliseconds, blocked)\u001B[0m\n\u001B[0;32m    105\u001B[0m \u001B[38;5;124;03m'''\u001B[39;00m\n\u001B[0;32m    106\u001B[0m \u001B[38;5;124;03mbusyFunction is a function that is called with busyArgs when the music is busy every\u001B[39;00m\n\u001B[0;32m    107\u001B[0m \u001B[38;5;124;03mbusyWaitMilliseconds.\u001B[39;00m\n\u001B[1;32m   (...)\u001B[0m\n\u001B[0;32m    115\u001B[0m \u001B[38;5;124;03myou to completely control whether to stop it. Ignore every other arguments\u001B[39;00m\n\u001B[0;32m    116\u001B[0m \u001B[38;5;124;03m'''\u001B[39;00m\n\u001B[0;32m    117\u001B[0m streamStringIOFile \u001B[38;5;241m=\u001B[39m \u001B[38;5;28mself\u001B[39m\u001B[38;5;241m.\u001B[39mgetStringOrBytesIOFile()\n\u001B[1;32m--> 118\u001B[0m \u001B[38;5;28;43mself\u001B[39;49m\u001B[38;5;241;43m.\u001B[39;49m\u001B[43mplayStringIOFile\u001B[49m\u001B[43m(\u001B[49m\u001B[43mstreamStringIOFile\u001B[49m\u001B[43m,\u001B[49m\n\u001B[0;32m    119\u001B[0m \u001B[43m                      \u001B[49m\u001B[43mbusyFunction\u001B[49m\u001B[38;5;241;43m=\u001B[39;49m\u001B[43mbusyFunction\u001B[49m\u001B[43m,\u001B[49m\n\u001B[0;32m    120\u001B[0m \u001B[43m                      \u001B[49m\u001B[43mbusyArgs\u001B[49m\u001B[38;5;241;43m=\u001B[39;49m\u001B[43mbusyArgs\u001B[49m\u001B[43m,\u001B[49m\n\u001B[0;32m    121\u001B[0m \u001B[43m                      \u001B[49m\u001B[43mendFunction\u001B[49m\u001B[38;5;241;43m=\u001B[39;49m\u001B[43mendFunction\u001B[49m\u001B[43m,\u001B[49m\n\u001B[0;32m    122\u001B[0m \u001B[43m                      \u001B[49m\u001B[43mendArgs\u001B[49m\u001B[38;5;241;43m=\u001B[39;49m\u001B[43mendArgs\u001B[49m\u001B[43m,\u001B[49m\n\u001B[0;32m    123\u001B[0m \u001B[43m                      \u001B[49m\u001B[43mbusyWaitMilliseconds\u001B[49m\u001B[38;5;241;43m=\u001B[39;49m\u001B[43mbusyWaitMilliseconds\u001B[49m\u001B[43m,\u001B[49m\n\u001B[0;32m    124\u001B[0m \u001B[43m                      \u001B[49m\u001B[43mplayForMilliseconds\u001B[49m\u001B[38;5;241;43m=\u001B[39;49m\u001B[43mplayForMilliseconds\u001B[49m\u001B[43m,\u001B[49m\n\u001B[0;32m    125\u001B[0m \u001B[43m                      \u001B[49m\u001B[43mblocked\u001B[49m\u001B[38;5;241;43m=\u001B[39;49m\u001B[43mblocked\u001B[49m\u001B[43m)\u001B[49m\n",
      "File \u001B[1;32m~\\anaconda3\\lib\\site-packages\\music21\\midi\\realtime.py:165\u001B[0m, in \u001B[0;36mStreamPlayer.playStringIOFile\u001B[1;34m(self, stringIOFile, busyFunction, busyArgs, endFunction, endArgs, busyWaitMilliseconds, playForMilliseconds, blocked)\u001B[0m\n\u001B[0;32m    163\u001B[0m         \u001B[38;5;28mself\u001B[39m\u001B[38;5;241m.\u001B[39mpygame\u001B[38;5;241m.\u001B[39mmixer\u001B[38;5;241m.\u001B[39mmusic\u001B[38;5;241m.\u001B[39mstop()\n\u001B[0;32m    164\u001B[0m         \u001B[38;5;28;01mbreak\u001B[39;00m\n\u001B[1;32m--> 165\u001B[0m     \u001B[43mpygameClock\u001B[49m\u001B[38;5;241;43m.\u001B[39;49m\u001B[43mtick\u001B[49m\u001B[43m(\u001B[49m\u001B[43mframerate\u001B[49m\u001B[43m)\u001B[49m\n\u001B[0;32m    167\u001B[0m \u001B[38;5;28;01mif\u001B[39;00m endFunction \u001B[38;5;129;01mis\u001B[39;00m \u001B[38;5;129;01mnot\u001B[39;00m \u001B[38;5;28;01mNone\u001B[39;00m:\n\u001B[0;32m    168\u001B[0m     endFunction(endArgs)\n",
      "\u001B[1;31mKeyboardInterrupt\u001B[0m: "
     ]
    }
   ],
   "source": [
    "#  Set up a detuned piano\n",
    "#  (where each key has a random\n",
    "#  but consistent detuning from 30 cents flat to sharp)\n",
    "#  and play a Bach Chorale on it in real time.\n",
    "\n",
    "from music21 import *\n",
    "import random\n",
    "keyDetune = []\n",
    "for i in range(0, 127):\n",
    "    keyDetune.append(random.randint(-30, 30))\n",
    "\n",
    "b = corpus.parse('bach/bwv66.6')\n",
    "for n in b.flat.notes:\n",
    "    n.microtone = keyDetune[n.pitch.midi]\n",
    "sp = midi.realtime.StreamPlayer(b)\n",
    "sp.play()"
   ]
  },
  {
   "cell_type": "code",
   "execution_count": null,
   "metadata": {},
   "outputs": [],
   "source": [
    "s = corpus.parse('bach/bwv65.2.xml')\n",
    "s.analyze('key')"
   ]
  },
  {
   "cell_type": "code",
   "execution_count": 107,
   "metadata": {},
   "outputs": [
    {
     "ename": "SubConverterException",
     "evalue": "Cannot find a path to the 'mscore' file at C:\\Program Files\\MuseScore 4\\bin\\MuseScore4.exe -- download MuseScore",
     "output_type": "error",
     "traceback": [
      "\u001B[1;31m---------------------------------------------------------------------------\u001B[0m",
      "\u001B[1;31mSubConverterException\u001B[0m                     Traceback (most recent call last)",
      "Cell \u001B[1;32mIn[107], line 1\u001B[0m\n\u001B[1;32m----> 1\u001B[0m \u001B[43ms\u001B[49m\u001B[38;5;241;43m.\u001B[39;49m\u001B[43mshow\u001B[49m\u001B[43m(\u001B[49m\u001B[43m)\u001B[49m\n",
      "File \u001B[1;32m~\\anaconda3\\lib\\site-packages\\music21\\stream\\base.py:397\u001B[0m, in \u001B[0;36mStream.show\u001B[1;34m(self, fmt, app, **keywords)\u001B[0m\n\u001B[0;32m    395\u001B[0m \u001B[38;5;28;01mif\u001B[39;00m \u001B[38;5;28mself\u001B[39m\u001B[38;5;241m.\u001B[39misSorted \u001B[38;5;129;01mis\u001B[39;00m \u001B[38;5;28;01mFalse\u001B[39;00m \u001B[38;5;129;01mand\u001B[39;00m \u001B[38;5;28mself\u001B[39m\u001B[38;5;241m.\u001B[39mautoSort:\n\u001B[0;32m    396\u001B[0m     \u001B[38;5;28mself\u001B[39m\u001B[38;5;241m.\u001B[39msort()\n\u001B[1;32m--> 397\u001B[0m \u001B[38;5;28;01mreturn\u001B[39;00m \u001B[38;5;28msuper\u001B[39m()\u001B[38;5;241m.\u001B[39mshow(fmt\u001B[38;5;241m=\u001B[39mfmt, app\u001B[38;5;241m=\u001B[39mapp, \u001B[38;5;241m*\u001B[39m\u001B[38;5;241m*\u001B[39mkeywords)\n",
      "File \u001B[1;32m~\\anaconda3\\lib\\site-packages\\music21\\base.py:2888\u001B[0m, in \u001B[0;36mMusic21Object.show\u001B[1;34m(self, fmt, app, **keywords)\u001B[0m\n\u001B[0;32m   2886\u001B[0m scClass \u001B[38;5;241m=\u001B[39m common\u001B[38;5;241m.\u001B[39mfindSubConverterForFormat(regularizedConverterFormat)\n\u001B[0;32m   2887\u001B[0m formatWriter \u001B[38;5;241m=\u001B[39m scClass()\n\u001B[1;32m-> 2888\u001B[0m \u001B[38;5;28;01mreturn\u001B[39;00m formatWriter\u001B[38;5;241m.\u001B[39mshow(\u001B[38;5;28mself\u001B[39m,\n\u001B[0;32m   2889\u001B[0m                          regularizedConverterFormat,\n\u001B[0;32m   2890\u001B[0m                          app\u001B[38;5;241m=\u001B[39mapp,\n\u001B[0;32m   2891\u001B[0m                          subformats\u001B[38;5;241m=\u001B[39msubformats,\n\u001B[0;32m   2892\u001B[0m                          \u001B[38;5;241m*\u001B[39m\u001B[38;5;241m*\u001B[39mkeywords)\n",
      "File \u001B[1;32m~\\anaconda3\\lib\\site-packages\\music21\\converter\\subConverters.py:395\u001B[0m, in \u001B[0;36mConverterIPython.show\u001B[1;34m(self, obj, fmt, app, subformats, **keywords)\u001B[0m\n\u001B[0;32m    392\u001B[0m     scores \u001B[38;5;241m=\u001B[39m \u001B[38;5;28mlist\u001B[39m(obj\u001B[38;5;241m.\u001B[39mscores)\n\u001B[0;32m    394\u001B[0m \u001B[38;5;28;01mfor\u001B[39;00m s \u001B[38;5;129;01min\u001B[39;00m scores:\n\u001B[1;32m--> 395\u001B[0m     fp \u001B[38;5;241m=\u001B[39m helperSubConverter\u001B[38;5;241m.\u001B[39mwrite(s,\n\u001B[0;32m    396\u001B[0m                                   helperFormat,\n\u001B[0;32m    397\u001B[0m                                   subformats\u001B[38;5;241m=\u001B[39mhelperSubformats,\n\u001B[0;32m    398\u001B[0m                                   \u001B[38;5;241m*\u001B[39m\u001B[38;5;241m*\u001B[39mkeywords\n\u001B[0;32m    399\u001B[0m                                   )\n\u001B[0;32m    401\u001B[0m     \u001B[38;5;28;01mif\u001B[39;00m helperSubformats[\u001B[38;5;241m0\u001B[39m] \u001B[38;5;241m==\u001B[39m \u001B[38;5;124m'\u001B[39m\u001B[38;5;124mpng\u001B[39m\u001B[38;5;124m'\u001B[39m:\n\u001B[0;32m    402\u001B[0m         \u001B[38;5;28;01mif\u001B[39;00m \u001B[38;5;129;01mnot\u001B[39;00m \u001B[38;5;28mstr\u001B[39m(environLocal[\u001B[38;5;124m'\u001B[39m\u001B[38;5;124mmusescoreDirectPNGPath\u001B[39m\u001B[38;5;124m'\u001B[39m])\u001B[38;5;241m.\u001B[39mstartswith(\u001B[38;5;124m'\u001B[39m\u001B[38;5;124m/skip\u001B[39m\u001B[38;5;124m'\u001B[39m):\n",
      "File \u001B[1;32m~\\anaconda3\\lib\\site-packages\\music21\\converter\\subConverters.py:1138\u001B[0m, in \u001B[0;36mConverterMusicXML.write\u001B[1;34m(self, obj, fmt, fp, subformats, makeNotation, compress, **keywords)\u001B[0m\n\u001B[0;32m   1133\u001B[0m     defaults\u001B[38;5;241m.\u001B[39mauthor \u001B[38;5;241m=\u001B[39m savedDefaultAuthor\n\u001B[0;32m   1135\u001B[0m \u001B[38;5;28;01mif\u001B[39;00m (subformats \u001B[38;5;129;01mis\u001B[39;00m \u001B[38;5;129;01mnot\u001B[39;00m \u001B[38;5;28;01mNone\u001B[39;00m\n\u001B[0;32m   1136\u001B[0m         \u001B[38;5;129;01mand\u001B[39;00m (\u001B[38;5;124m'\u001B[39m\u001B[38;5;124mpng\u001B[39m\u001B[38;5;124m'\u001B[39m \u001B[38;5;129;01min\u001B[39;00m subformats \u001B[38;5;129;01mor\u001B[39;00m \u001B[38;5;124m'\u001B[39m\u001B[38;5;124mpdf\u001B[39m\u001B[38;5;124m'\u001B[39m \u001B[38;5;129;01min\u001B[39;00m subformats)\n\u001B[0;32m   1137\u001B[0m         \u001B[38;5;129;01mand\u001B[39;00m \u001B[38;5;129;01mnot\u001B[39;00m \u001B[38;5;28mstr\u001B[39m(environLocal[\u001B[38;5;124m'\u001B[39m\u001B[38;5;124mmusescoreDirectPNGPath\u001B[39m\u001B[38;5;124m'\u001B[39m])\u001B[38;5;241m.\u001B[39mstartswith(\u001B[38;5;124m'\u001B[39m\u001B[38;5;124m/skip\u001B[39m\u001B[38;5;124m'\u001B[39m)):\n\u001B[1;32m-> 1138\u001B[0m     outFp \u001B[38;5;241m=\u001B[39m \u001B[38;5;28mself\u001B[39m\u001B[38;5;241m.\u001B[39mrunThroughMusescore(xmlFp, subformats, \u001B[38;5;241m*\u001B[39m\u001B[38;5;241m*\u001B[39mkeywords)\n\u001B[0;32m   1139\u001B[0m \u001B[38;5;28;01melif\u001B[39;00m compress:\n\u001B[0;32m   1140\u001B[0m     archiveTools\u001B[38;5;241m.\u001B[39mcompressXML(xmlFp,\n\u001B[0;32m   1141\u001B[0m                              deleteOriginal\u001B[38;5;241m=\u001B[39m\u001B[38;5;28;01mTrue\u001B[39;00m,\n\u001B[0;32m   1142\u001B[0m                              silent\u001B[38;5;241m=\u001B[39m\u001B[38;5;28;01mTrue\u001B[39;00m,\n\u001B[0;32m   1143\u001B[0m                              strictMxlCheck\u001B[38;5;241m=\u001B[39m\u001B[38;5;28;01mFalse\u001B[39;00m)\n",
      "File \u001B[1;32m~\\anaconda3\\lib\\site-packages\\music21\\converter\\subConverters.py:972\u001B[0m, in \u001B[0;36mConverterMusicXML.runThroughMusescore\u001B[1;34m(self, fp, subformats, dpi, **keywords)\u001B[0m\n\u001B[0;32m    968\u001B[0m     \u001B[38;5;28;01mraise\u001B[39;00m SubConverterException(\n\u001B[0;32m    969\u001B[0m         \u001B[38;5;124m'\u001B[39m\u001B[38;5;124mTo create PNG files directly from MusicXML you need to download MuseScore and \u001B[39m\u001B[38;5;124m'\u001B[39m\n\u001B[0;32m    970\u001B[0m         \u001B[38;5;241m+\u001B[39m \u001B[38;5;124m'\u001B[39m\u001B[38;5;124mput a link to it in your .music21rc via Environment.\u001B[39m\u001B[38;5;124m'\u001B[39m)\n\u001B[0;32m    971\u001B[0m \u001B[38;5;28;01mif\u001B[39;00m \u001B[38;5;129;01mnot\u001B[39;00m musescorePath\u001B[38;5;241m.\u001B[39mexists():\n\u001B[1;32m--> 972\u001B[0m     \u001B[38;5;28;01mraise\u001B[39;00m SubConverterException(\n\u001B[0;32m    973\u001B[0m         \u001B[38;5;124m\"\u001B[39m\u001B[38;5;124mCannot find a path to the \u001B[39m\u001B[38;5;124m'\u001B[39m\u001B[38;5;124mmscore\u001B[39m\u001B[38;5;124m'\u001B[39m\u001B[38;5;124m file at \u001B[39m\u001B[38;5;124m\"\u001B[39m\n\u001B[0;32m    974\u001B[0m         \u001B[38;5;241m+\u001B[39m \u001B[38;5;124mf\u001B[39m\u001B[38;5;124m'\u001B[39m\u001B[38;5;132;01m{\u001B[39;00mmusescorePath\u001B[38;5;132;01m}\u001B[39;00m\u001B[38;5;124m -- download MuseScore\u001B[39m\u001B[38;5;124m'\u001B[39m)\n\u001B[0;32m    976\u001B[0m \u001B[38;5;28;01mif\u001B[39;00m subformats \u001B[38;5;129;01mis\u001B[39;00m \u001B[38;5;28;01mNone\u001B[39;00m:\n\u001B[0;32m    977\u001B[0m     subformatExtension \u001B[38;5;241m=\u001B[39m \u001B[38;5;124m'\u001B[39m\u001B[38;5;124mpng\u001B[39m\u001B[38;5;124m'\u001B[39m\n",
      "\u001B[1;31mSubConverterException\u001B[0m: Cannot find a path to the 'mscore' file at C:\\Program Files\\MuseScore 4\\bin\\MuseScore4.exe -- download MuseScore"
     ]
    }
   ],
   "source": [
    "s.show()"
   ]
  },
  {
   "cell_type": "code",
   "execution_count": null,
   "metadata": {},
   "outputs": [],
   "source": []
  }
 ],
 "metadata": {
  "kernelspec": {
   "display_name": "Python 3 (ipykernel)",
   "language": "python",
   "name": "python3"
  },
  "language_info": {
   "codemirror_mode": {
    "name": "ipython",
    "version": 3
   },
   "file_extension": ".py",
   "mimetype": "text/x-python",
   "name": "python",
   "nbconvert_exporter": "python",
   "pygments_lexer": "ipython3",
   "version": "3.9.13"
  }
 },
 "nbformat": 4,
 "nbformat_minor": 1
}

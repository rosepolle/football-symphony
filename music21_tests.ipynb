{
 "cells": [
  {
   "cell_type": "code",
   "execution_count": 1,
   "metadata": {},
   "outputs": [],
   "source": [
    "from music21 import *"
   ]
  },
  {
   "cell_type": "code",
   "execution_count": 27,
   "outputs": [],
   "source": [
    "import music21.instrument\n",
    "import inspect"
   ],
   "metadata": {
    "collapsed": false
   }
  },
  {
   "cell_type": "code",
   "execution_count": 28,
   "outputs": [],
   "source": [
    "def get_all_instruments():\n",
    "    instruments = {}\n",
    "    drums = {}\n",
    "    for name, obj in inspect.getmembers(instrument):\n",
    "        if inspect.isclass(obj):\n",
    "            parents = [cls.__name__ for cls in inspect.getmro(obj)][1:]\n",
    "            if \"Instrument\" in parents and 'Percussion' not in parents:\n",
    "                instruments[obj.__name__] = obj\n",
    "            if \"Instrument\" in parents and 'Percussion' in parents:\n",
    "                drums[obj.__name__] = obj\n",
    "    return instruments,drums"
   ],
   "metadata": {
    "collapsed": false
   }
  },
  {
   "cell_type": "code",
   "execution_count": 29,
   "outputs": [],
   "source": [
    "instruments,drums = get_all_instruments()"
   ],
   "metadata": {
    "collapsed": false
   }
  },
  {
   "cell_type": "code",
   "execution_count": 34,
   "outputs": [
    {
     "name": "stdout",
     "output_type": "stream",
     "text": [
      "['Agogo', 'BassDrum', 'BongoDrums', 'Castanets', 'ChurchBells', 'CongaDrum', 'Cowbell', 'CrashCymbals', 'Cymbals', 'Dulcimer', 'FingerCymbals', 'Glockenspiel', 'Gong', 'Handbells', 'HiHatCymbal', 'Kalimba', 'Maracas', 'Marimba', 'PitchedPercussion', 'Ratchet', 'RideCymbals', 'SandpaperBlocks', 'Siren', 'SizzleCymbal', 'SleighBells', 'SnareDrum', 'SplashCymbals', 'SteelDrum', 'SuspendedCymbal', 'Taiko', 'TamTam', 'Tambourine', 'TempleBlock', 'TenorDrum', 'Timbales', 'Timpani', 'TomTom', 'Triangle', 'TubularBells', 'UnpitchedPercussion', 'Vibraphone', 'Vibraslap', 'Whip', 'WindMachine', 'Woodblock', 'Xylophone']\n"
     ]
    }
   ],
   "source": [
    "print(list(drums.keys()))"
   ],
   "metadata": {
    "collapsed": false
   }
  },
  {
   "cell_type": "code",
   "execution_count": 35,
   "outputs": [
    {
     "name": "stdout",
     "output_type": "stream",
     "text": [
      "['Accordion', 'AcousticBass', 'AcousticGuitar', 'Alto', 'AltoSaxophone', 'Bagpipes', 'Banjo', 'Baritone', 'BaritoneSaxophone', 'Bass', 'BassClarinet', 'BassTrombone', 'Bassoon', 'BrassInstrument', 'Celesta', 'Choir', 'Clarinet', 'Clavichord', 'Conductor', 'Contrabass', 'Contrabassoon', 'ElectricBass', 'ElectricGuitar', 'ElectricOrgan', 'ElectricPiano', 'EnglishHorn', 'Flute', 'FretlessBass', 'Guitar', 'Harmonica', 'Harp', 'Harpsichord', 'Horn', 'KeyboardInstrument', 'Koto', 'Lute', 'Mandolin', 'MezzoSoprano', 'Oboe', 'Ocarina', 'Organ', 'PanFlute', 'Percussion', 'Piano', 'Piccolo', 'PipeOrgan', 'Recorder', 'ReedOrgan', 'Sampler', 'Saxophone', 'Shakuhachi', 'Shamisen', 'Shehnai', 'Sitar', 'Soprano', 'SopranoSaxophone', 'StringInstrument', 'Tenor', 'TenorSaxophone', 'Trombone', 'Trumpet', 'Tuba', 'Ukulele', 'Viola', 'Violin', 'Violoncello', 'Vocalist', 'Whistle', 'WoodwindInstrument']\n"
     ]
    }
   ],
   "source": [
    "print(list(instruments.keys()))"
   ],
   "metadata": {
    "collapsed": false
   }
  },
  {
   "cell_type": "code",
   "execution_count": 2,
   "metadata": {},
   "outputs": [
    {
     "data": {
      "text/plain": "<music21_local.key.Key of a minor>"
     },
     "execution_count": 2,
     "metadata": {},
     "output_type": "execute_result"
    }
   ],
   "source": [
    "s = corpus.parse('bach/bwv65.2.xml')\n",
    "s.analyze('key')"
   ]
  },
  {
   "cell_type": "code",
   "execution_count": 3,
   "metadata": {},
   "outputs": [],
   "source": [
    "# from music21_local import environment\n",
    "# us = environment.Environment()\n",
    "# us.restoreDefaults()\n",
    "# print(us)\n",
    "# # us['musicxmlPath']\n",
    "# us['musicxmlPath'] = 'C:/Program Files/MuseScore 3/bin/MuseScore3.exe' #'C:/Program Files/MuseScore 4/bin/MuseScore4.exe'\n",
    "# us['musescoreDirectPNGPath'] = 'C:/Program Files/MuseScore 3/bin/MuseScore3.exe' #'C:/Program Files/MuseScore 4/bin/MuseScore4.exe'"
   ]
  },
  {
   "cell_type": "code",
   "execution_count": null,
   "metadata": {},
   "outputs": [
    {
     "ename": "SubConverterException",
     "evalue": "Cannot find a path to the 'mscore' file at /Applications/MuseScore 3.app/Contents/MacOS/mscore -- download MuseScore",
     "output_type": "error",
     "traceback": [
      "\u001B[0;31m---------------------------------------------------------------------------\u001B[0m",
      "\u001B[0;31mSubConverterException\u001B[0m                     Traceback (most recent call last)",
      "\u001B[0;32m/var/folders/sc/hq64758573n96j26h3r75f480000gn/T/ipykernel_2679/550572001.py\u001B[0m in \u001B[0;36m<module>\u001B[0;34m\u001B[0m\n\u001B[0;32m----> 1\u001B[0;31m \u001B[0ms\u001B[0m\u001B[0;34m.\u001B[0m\u001B[0mshow\u001B[0m\u001B[0;34m(\u001B[0m\u001B[0;34m)\u001B[0m\u001B[0;34m\u001B[0m\u001B[0;34m\u001B[0m\u001B[0m\n\u001B[0m",
      "\u001B[0;32m~/Library/CloudStorage/OneDrive-Personal/GIT/FootStats/music21_local/stream/base.py\u001B[0m in \u001B[0;36mshow\u001B[0;34m(self, fmt, app, **keywords)\u001B[0m\n\u001B[1;32m    395\u001B[0m         \u001B[0;32mif\u001B[0m \u001B[0mself\u001B[0m\u001B[0;34m.\u001B[0m\u001B[0misSorted\u001B[0m \u001B[0;32mis\u001B[0m \u001B[0;32mFalse\u001B[0m \u001B[0;32mand\u001B[0m \u001B[0mself\u001B[0m\u001B[0;34m.\u001B[0m\u001B[0mautoSort\u001B[0m\u001B[0;34m:\u001B[0m\u001B[0;34m\u001B[0m\u001B[0;34m\u001B[0m\u001B[0m\n\u001B[1;32m    396\u001B[0m             \u001B[0mself\u001B[0m\u001B[0;34m.\u001B[0m\u001B[0msort\u001B[0m\u001B[0;34m(\u001B[0m\u001B[0;34m)\u001B[0m\u001B[0;34m\u001B[0m\u001B[0;34m\u001B[0m\u001B[0m\n\u001B[0;32m--> 397\u001B[0;31m         \u001B[0;32mreturn\u001B[0m \u001B[0msuper\u001B[0m\u001B[0;34m(\u001B[0m\u001B[0;34m)\u001B[0m\u001B[0;34m.\u001B[0m\u001B[0mshow\u001B[0m\u001B[0;34m(\u001B[0m\u001B[0mfmt\u001B[0m\u001B[0;34m=\u001B[0m\u001B[0mfmt\u001B[0m\u001B[0;34m,\u001B[0m \u001B[0mapp\u001B[0m\u001B[0;34m=\u001B[0m\u001B[0mapp\u001B[0m\u001B[0;34m,\u001B[0m \u001B[0;34m**\u001B[0m\u001B[0mkeywords\u001B[0m\u001B[0;34m)\u001B[0m\u001B[0;34m\u001B[0m\u001B[0;34m\u001B[0m\u001B[0m\n\u001B[0m\u001B[1;32m    398\u001B[0m \u001B[0;34m\u001B[0m\u001B[0m\n\u001B[1;32m    399\u001B[0m     \u001B[0;31m# --------------------------------------------------------------------------\u001B[0m\u001B[0;34m\u001B[0m\u001B[0;34m\u001B[0m\u001B[0m\n",
      "\u001B[0;32m~/Library/CloudStorage/OneDrive-Personal/GIT/FootStats/music21_local/base.py\u001B[0m in \u001B[0;36mshow\u001B[0;34m(self, fmt, app, **keywords)\u001B[0m\n\u001B[1;32m   2886\u001B[0m         \u001B[0mscClass\u001B[0m \u001B[0;34m=\u001B[0m \u001B[0mcommon\u001B[0m\u001B[0;34m.\u001B[0m\u001B[0mfindSubConverterForFormat\u001B[0m\u001B[0;34m(\u001B[0m\u001B[0mregularizedConverterFormat\u001B[0m\u001B[0;34m)\u001B[0m\u001B[0;34m\u001B[0m\u001B[0;34m\u001B[0m\u001B[0m\n\u001B[1;32m   2887\u001B[0m         \u001B[0mformatWriter\u001B[0m \u001B[0;34m=\u001B[0m \u001B[0mscClass\u001B[0m\u001B[0;34m(\u001B[0m\u001B[0;34m)\u001B[0m\u001B[0;34m\u001B[0m\u001B[0;34m\u001B[0m\u001B[0m\n\u001B[0;32m-> 2888\u001B[0;31m         return formatWriter.show(self,\n\u001B[0m\u001B[1;32m   2889\u001B[0m                                  \u001B[0mregularizedConverterFormat\u001B[0m\u001B[0;34m,\u001B[0m\u001B[0;34m\u001B[0m\u001B[0;34m\u001B[0m\u001B[0m\n\u001B[1;32m   2890\u001B[0m                                  \u001B[0mapp\u001B[0m\u001B[0;34m=\u001B[0m\u001B[0mapp\u001B[0m\u001B[0;34m,\u001B[0m\u001B[0;34m\u001B[0m\u001B[0;34m\u001B[0m\u001B[0m\n",
      "\u001B[0;32m~/Library/CloudStorage/OneDrive-Personal/GIT/FootStats/music21_local/converter/subConverters.py\u001B[0m in \u001B[0;36mshow\u001B[0;34m(self, obj, fmt, app, subformats, **keywords)\u001B[0m\n\u001B[1;32m    393\u001B[0m \u001B[0;34m\u001B[0m\u001B[0m\n\u001B[1;32m    394\u001B[0m             \u001B[0;32mfor\u001B[0m \u001B[0ms\u001B[0m \u001B[0;32min\u001B[0m \u001B[0mscores\u001B[0m\u001B[0;34m:\u001B[0m\u001B[0;34m\u001B[0m\u001B[0;34m\u001B[0m\u001B[0m\n\u001B[0;32m--> 395\u001B[0;31m                 fp = helperSubConverter.write(s,\n\u001B[0m\u001B[1;32m    396\u001B[0m                                               \u001B[0mhelperFormat\u001B[0m\u001B[0;34m,\u001B[0m\u001B[0;34m\u001B[0m\u001B[0;34m\u001B[0m\u001B[0m\n\u001B[1;32m    397\u001B[0m                                               \u001B[0msubformats\u001B[0m\u001B[0;34m=\u001B[0m\u001B[0mhelperSubformats\u001B[0m\u001B[0;34m,\u001B[0m\u001B[0;34m\u001B[0m\u001B[0;34m\u001B[0m\u001B[0m\n",
      "\u001B[0;32m~/Library/CloudStorage/OneDrive-Personal/GIT/FootStats/music21_local/converter/subConverters.py\u001B[0m in \u001B[0;36mwrite\u001B[0;34m(self, obj, fmt, fp, subformats, makeNotation, compress, **keywords)\u001B[0m\n\u001B[1;32m   1137\u001B[0m                 \u001B[0;32mand\u001B[0m \u001B[0;34m(\u001B[0m\u001B[0;34m'png'\u001B[0m \u001B[0;32min\u001B[0m \u001B[0msubformats\u001B[0m \u001B[0;32mor\u001B[0m \u001B[0;34m'pdf'\u001B[0m \u001B[0;32min\u001B[0m \u001B[0msubformats\u001B[0m\u001B[0;34m)\u001B[0m\u001B[0;34m\u001B[0m\u001B[0;34m\u001B[0m\u001B[0m\n\u001B[1;32m   1138\u001B[0m                 and not str(environLocal['musescoreDirectPNGPath']).startswith('/skip')):\n\u001B[0;32m-> 1139\u001B[0;31m             \u001B[0moutFp\u001B[0m \u001B[0;34m=\u001B[0m \u001B[0mself\u001B[0m\u001B[0;34m.\u001B[0m\u001B[0mrunThroughMusescore\u001B[0m\u001B[0;34m(\u001B[0m\u001B[0mxmlFp\u001B[0m\u001B[0;34m,\u001B[0m \u001B[0msubformats\u001B[0m\u001B[0;34m,\u001B[0m \u001B[0;34m**\u001B[0m\u001B[0mkeywords\u001B[0m\u001B[0;34m)\u001B[0m\u001B[0;34m\u001B[0m\u001B[0;34m\u001B[0m\u001B[0m\n\u001B[0m\u001B[1;32m   1140\u001B[0m         \u001B[0;32melif\u001B[0m \u001B[0mcompress\u001B[0m\u001B[0;34m:\u001B[0m\u001B[0;34m\u001B[0m\u001B[0;34m\u001B[0m\u001B[0m\n\u001B[1;32m   1141\u001B[0m             archiveTools.compressXML(xmlFp,\n",
      "\u001B[0;32m~/Library/CloudStorage/OneDrive-Personal/GIT/FootStats/music21_local/converter/subConverters.py\u001B[0m in \u001B[0;36mrunThroughMusescore\u001B[0;34m(self, fp, subformats, dpi, **keywords)\u001B[0m\n\u001B[1;32m    970\u001B[0m                 + 'put a link to it in your .music21rc via Environment.')\n\u001B[1;32m    971\u001B[0m         \u001B[0;32mif\u001B[0m \u001B[0;32mnot\u001B[0m \u001B[0mmusescorePath\u001B[0m\u001B[0;34m.\u001B[0m\u001B[0mexists\u001B[0m\u001B[0;34m(\u001B[0m\u001B[0;34m)\u001B[0m\u001B[0;34m:\u001B[0m\u001B[0;34m\u001B[0m\u001B[0;34m\u001B[0m\u001B[0m\n\u001B[0;32m--> 972\u001B[0;31m             raise SubConverterException(\n\u001B[0m\u001B[1;32m    973\u001B[0m                 \u001B[0;34m\"Cannot find a path to the 'mscore' file at \"\u001B[0m\u001B[0;34m\u001B[0m\u001B[0;34m\u001B[0m\u001B[0m\n\u001B[1;32m    974\u001B[0m                 + f'{musescorePath} -- download MuseScore')\n",
      "\u001B[0;31mSubConverterException\u001B[0m: Cannot find a path to the 'mscore' file at /Applications/MuseScore 3.app/Contents/MacOS/mscore -- download MuseScore"
     ]
    }
   ],
   "source": [
    "# s.show()"
   ]
  },
  {
   "cell_type": "code",
   "execution_count": null,
   "metadata": {},
   "outputs": [],
   "source": []
  }
 ],
 "metadata": {
  "kernelspec": {
   "display_name": "Python 3 (ipykernel)",
   "language": "python",
   "name": "python3"
  },
  "language_info": {
   "codemirror_mode": {
    "name": "ipython",
    "version": 3
   },
   "file_extension": ".py",
   "mimetype": "text/x-python",
   "name": "python",
   "nbconvert_exporter": "python",
   "pygments_lexer": "ipython3",
   "version": "3.9.16"
  }
 },
 "nbformat": 4,
 "nbformat_minor": 1
}
